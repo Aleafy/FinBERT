{
 "cells": [
  {
   "cell_type": "markdown",
   "metadata": {},
   "source": [
    "# FinBERT Example Notebook\n",
    "\n",
    "This notebooks shows how to train and use the FinBERT pre-trained language model for financial sentiment analysis."
   ]
  },
  {
   "cell_type": "markdown",
   "metadata": {},
   "source": [
    "## Modules "
   ]
  },
  {
   "cell_type": "code",
   "execution_count": 1,
   "metadata": {
    "ExecuteTime": {
     "end_time": "2020-03-23T15:55:04.902740Z",
     "start_time": "2020-03-23T15:55:04.876252Z"
    }
   },
   "outputs": [
    {
     "name": "stderr",
     "output_type": "stream",
     "text": [
      "/home/fangye/miniconda3/envs/finbert/lib/python3.7/site-packages/sklearn/feature_extraction/image.py:167: DeprecationWarning: `np.int` is a deprecated alias for the builtin `int`. To silence this warning, use `int` by itself. Doing this will not modify any behavior and is safe. When replacing `np.int`, you may wish to use e.g. `np.int64` or `np.int32` to specify the precision. If you wish to review your current use, check the release note link for additional information.\n",
      "Deprecated in NumPy 1.20; for more details and guidance: https://numpy.org/devdocs/release/1.20.0-notes.html#deprecations\n",
      "  dtype=np.int):\n",
      "/home/fangye/miniconda3/envs/finbert/lib/python3.7/site-packages/sklearn/linear_model/least_angle.py:30: DeprecationWarning: `np.float` is a deprecated alias for the builtin `float`. To silence this warning, use `float` by itself. Doing this will not modify any behavior and is safe. If you specifically wanted the numpy scalar type, use `np.float64` here.\n",
      "Deprecated in NumPy 1.20; for more details and guidance: https://numpy.org/devdocs/release/1.20.0-notes.html#deprecations\n",
      "  method='lar', copy_X=True, eps=np.finfo(np.float).eps,\n",
      "/home/fangye/miniconda3/envs/finbert/lib/python3.7/site-packages/sklearn/linear_model/least_angle.py:167: DeprecationWarning: `np.float` is a deprecated alias for the builtin `float`. To silence this warning, use `float` by itself. Doing this will not modify any behavior and is safe. If you specifically wanted the numpy scalar type, use `np.float64` here.\n",
      "Deprecated in NumPy 1.20; for more details and guidance: https://numpy.org/devdocs/release/1.20.0-notes.html#deprecations\n",
      "  method='lar', copy_X=True, eps=np.finfo(np.float).eps,\n",
      "/home/fangye/miniconda3/envs/finbert/lib/python3.7/site-packages/sklearn/linear_model/least_angle.py:284: DeprecationWarning: `np.float` is a deprecated alias for the builtin `float`. To silence this warning, use `float` by itself. Doing this will not modify any behavior and is safe. If you specifically wanted the numpy scalar type, use `np.float64` here.\n",
      "Deprecated in NumPy 1.20; for more details and guidance: https://numpy.org/devdocs/release/1.20.0-notes.html#deprecations\n",
      "  eps=np.finfo(np.float).eps, copy_Gram=True, verbose=0,\n",
      "/home/fangye/miniconda3/envs/finbert/lib/python3.7/site-packages/sklearn/linear_model/least_angle.py:862: DeprecationWarning: `np.float` is a deprecated alias for the builtin `float`. To silence this warning, use `float` by itself. Doing this will not modify any behavior and is safe. If you specifically wanted the numpy scalar type, use `np.float64` here.\n",
      "Deprecated in NumPy 1.20; for more details and guidance: https://numpy.org/devdocs/release/1.20.0-notes.html#deprecations\n",
      "  eps=np.finfo(np.float).eps, copy_X=True, fit_path=True,\n",
      "/home/fangye/miniconda3/envs/finbert/lib/python3.7/site-packages/sklearn/linear_model/least_angle.py:1101: DeprecationWarning: `np.float` is a deprecated alias for the builtin `float`. To silence this warning, use `float` by itself. Doing this will not modify any behavior and is safe. If you specifically wanted the numpy scalar type, use `np.float64` here.\n",
      "Deprecated in NumPy 1.20; for more details and guidance: https://numpy.org/devdocs/release/1.20.0-notes.html#deprecations\n",
      "  eps=np.finfo(np.float).eps, copy_X=True, fit_path=True,\n",
      "/home/fangye/miniconda3/envs/finbert/lib/python3.7/site-packages/sklearn/linear_model/least_angle.py:1127: DeprecationWarning: `np.float` is a deprecated alias for the builtin `float`. To silence this warning, use `float` by itself. Doing this will not modify any behavior and is safe. If you specifically wanted the numpy scalar type, use `np.float64` here.\n",
      "Deprecated in NumPy 1.20; for more details and guidance: https://numpy.org/devdocs/release/1.20.0-notes.html#deprecations\n",
      "  eps=np.finfo(np.float).eps, positive=False):\n",
      "/home/fangye/miniconda3/envs/finbert/lib/python3.7/site-packages/sklearn/linear_model/least_angle.py:1362: DeprecationWarning: `np.float` is a deprecated alias for the builtin `float`. To silence this warning, use `float` by itself. Doing this will not modify any behavior and is safe. If you specifically wanted the numpy scalar type, use `np.float64` here.\n",
      "Deprecated in NumPy 1.20; for more details and guidance: https://numpy.org/devdocs/release/1.20.0-notes.html#deprecations\n",
      "  max_n_alphas=1000, n_jobs=None, eps=np.finfo(np.float).eps,\n",
      "/home/fangye/miniconda3/envs/finbert/lib/python3.7/site-packages/sklearn/linear_model/least_angle.py:1602: DeprecationWarning: `np.float` is a deprecated alias for the builtin `float`. To silence this warning, use `float` by itself. Doing this will not modify any behavior and is safe. If you specifically wanted the numpy scalar type, use `np.float64` here.\n",
      "Deprecated in NumPy 1.20; for more details and guidance: https://numpy.org/devdocs/release/1.20.0-notes.html#deprecations\n",
      "  max_n_alphas=1000, n_jobs=None, eps=np.finfo(np.float).eps,\n",
      "/home/fangye/miniconda3/envs/finbert/lib/python3.7/site-packages/sklearn/linear_model/least_angle.py:1738: DeprecationWarning: `np.float` is a deprecated alias for the builtin `float`. To silence this warning, use `float` by itself. Doing this will not modify any behavior and is safe. If you specifically wanted the numpy scalar type, use `np.float64` here.\n",
      "Deprecated in NumPy 1.20; for more details and guidance: https://numpy.org/devdocs/release/1.20.0-notes.html#deprecations\n",
      "  eps=np.finfo(np.float).eps, copy_X=True, positive=False):\n",
      "'(MaxRetryError(\"HTTPSConnectionPool(host='huggingface.co', port=443): Max retries exceeded with url: /bert-base-uncased/resolve/main/tokenizer_config.json (Caused by ConnectTimeoutError(<urllib3.connection.HTTPSConnection object at 0x7f3492fc1f10>, 'Connection to huggingface.co timed out. (connect timeout=10)'))\"), '(Request ID: f210c6c6-989f-4b6c-9614-a4c0606e9446)')' thrown while requesting HEAD https://huggingface.co/bert-base-uncased/resolve/main/tokenizer_config.json\n",
      "11/27/2023 20:15:04 - WARNING - huggingface_hub.utils._http -   '(MaxRetryError(\"HTTPSConnectionPool(host='huggingface.co', port=443): Max retries exceeded with url: /bert-base-uncased/resolve/main/tokenizer_config.json (Caused by ConnectTimeoutError(<urllib3.connection.HTTPSConnection object at 0x7f3492fc1f10>, 'Connection to huggingface.co timed out. (connect timeout=10)'))\"), '(Request ID: f210c6c6-989f-4b6c-9614-a4c0606e9446)')' thrown while requesting HEAD https://huggingface.co/bert-base-uncased/resolve/main/tokenizer_config.json\n",
      "/home/fangye/miniconda3/envs/finbert/lib/python3.7/site-packages/ipykernel_launcher.py:21: FutureWarning: Passing a negative integer is deprecated in version 1.0 and will not be supported in future version. Instead, use None to not limit the column width.\n"
     ]
    }
   ],
   "source": [
    "from pathlib import Path\n",
    "import shutil\n",
    "import os\n",
    "import logging\n",
    "import sys\n",
    "sys.path.append('..')\n",
    "\n",
    "from textblob import TextBlob\n",
    "from pprint import pprint\n",
    "from sklearn.metrics import classification_report\n",
    "\n",
    "from transformers import AutoModelForSequenceClassification\n",
    "\n",
    "from finbert.finbert import *\n",
    "import finbert.utils as tools\n",
    "\n",
    "%load_ext autoreload\n",
    "%autoreload 2\n",
    "\n",
    "project_dir = Path.cwd().parent\n",
    "pd.set_option('max_colwidth', -1)"
   ]
  },
  {
   "cell_type": "code",
   "execution_count": 2,
   "metadata": {
    "ExecuteTime": {
     "end_time": "2020-03-23T15:55:05.711210Z",
     "start_time": "2020-03-23T15:55:05.693609Z"
    }
   },
   "outputs": [],
   "source": [
    "logging.basicConfig(format = '%(asctime)s - %(levelname)s - %(name)s -   %(message)s',\n",
    "                    datefmt = '%m/%d/%Y %H:%M:%S',\n",
    "                    level = logging.ERROR)"
   ]
  },
  {
   "cell_type": "markdown",
   "metadata": {},
   "source": [
    "## Prepare the model"
   ]
  },
  {
   "cell_type": "markdown",
   "metadata": {},
   "source": [
    "### Setting path variables:\n",
    "1. `lm_path`: the path for the pre-trained language model (If vanilla Bert is used then no need to set this one).\n",
    "2. `cl_path`: the path where the classification model is saved.\n",
    "3. `cl_data_path`: the path of the directory that contains the data files of `train.csv`, `validation.csv`, `test.csv`.\n",
    "---\n",
    "\n",
    "In the initialization of `bertmodel`, we can either use the original pre-trained weights from Google by giving `bm = 'bert-base-uncased`, or our further pre-trained language model by `bm = lm_path`\n",
    "\n",
    "\n",
    "---\n",
    "All of the configurations with the model is controlled with the `config` variable. "
   ]
  },
  {
   "cell_type": "code",
   "execution_count": 3,
   "metadata": {
    "ExecuteTime": {
     "end_time": "2020-03-23T15:55:07.405597Z",
     "start_time": "2020-03-23T15:55:07.386378Z"
    }
   },
   "outputs": [],
   "source": [
    "lm_path = project_dir/'models'/'language_model'/'finbertTRC2'\n",
    "cl_path = project_dir/'models'/'classifier_model'/'finbert-sentiment'\n",
    "cl_data_path = project_dir/'data'/'sentiment_data'"
   ]
  },
  {
   "cell_type": "markdown",
   "metadata": {},
   "source": [
    "###  Configuring training parameters"
   ]
  },
  {
   "cell_type": "markdown",
   "metadata": {},
   "source": [
    "You can find the explanations of the training parameters in the class docsctrings. "
   ]
  },
  {
   "cell_type": "code",
   "execution_count": 5,
   "metadata": {
    "ExecuteTime": {
     "end_time": "2020-03-23T15:55:12.378583Z",
     "start_time": "2020-03-23T15:55:09.196746Z"
    }
   },
   "outputs": [
    {
     "name": "stderr",
     "output_type": "stream",
     "text": [
      "Some weights of the model checkpoint at /home/fangye/finBERT/models/language_model/finbertTRC2 were not used when initializing BertForSequenceClassification: ['cls.predictions.transform.dense.weight', 'cls.predictions.bias', 'cls.predictions.transform.LayerNorm.bias', 'cls.seq_relationship.weight', 'cls.predictions.transform.dense.bias', 'cls.predictions.decoder.weight', 'cls.seq_relationship.bias', 'cls.predictions.transform.LayerNorm.weight']\n",
      "- This IS expected if you are initializing BertForSequenceClassification from the checkpoint of a model trained on another task or with another architecture (e.g. initializing a BertForSequenceClassification model from a BertForPreTraining model).\n",
      "- This IS NOT expected if you are initializing BertForSequenceClassification from the checkpoint of a model that you expect to be exactly identical (initializing a BertForSequenceClassification model from a BertForSequenceClassification model).\n",
      "Some weights of BertForSequenceClassification were not initialized from the model checkpoint at /home/fangye/finBERT/models/language_model/finbertTRC2 and are newly initialized: ['classifier.weight', 'classifier.bias']\n",
      "You should probably TRAIN this model on a down-stream task to be able to use it for predictions and inference.\n"
     ]
    }
   ],
   "source": [
    "# Clean the cl_path\n",
    "try:\n",
    "    shutil.rmtree(cl_path) \n",
    "except:\n",
    "    pass\n",
    "\n",
    "bertmodel = AutoModelForSequenceClassification.from_pretrained(lm_path,cache_dir=None, num_labels=3)\n",
    "\n",
    "\n",
    "config = Config(   data_dir=cl_data_path,\n",
    "                   bert_model=bertmodel,\n",
    "                   num_train_epochs=4,\n",
    "                   model_dir=cl_path,\n",
    "                   max_seq_length = 48,\n",
    "                   train_batch_size = 32,\n",
    "                   learning_rate = 2e-5,\n",
    "                   output_mode='classification',\n",
    "                   warm_up_proportion=0.2,\n",
    "                   local_rank=-1,\n",
    "                   discriminate=True,\n",
    "                   gradual_unfreeze=True)"
   ]
  },
  {
   "cell_type": "markdown",
   "metadata": {},
   "source": [
    "`finbert` is our main class that encapsulates all the functionality. The list of class labels should be given in the prepare_model method call with label_list parameter."
   ]
  },
  {
   "cell_type": "code",
   "execution_count": 6,
   "metadata": {
    "ExecuteTime": {
     "end_time": "2020-03-23T15:55:16.657078Z",
     "start_time": "2020-03-23T15:55:16.639644Z"
    }
   },
   "outputs": [],
   "source": [
    "finbert = FinBert(config)\n",
    "finbert.base_model = 'bert-base-uncased'\n",
    "finbert.config.discriminate=True\n",
    "finbert.config.gradual_unfreeze=True"
   ]
  },
  {
   "cell_type": "code",
   "execution_count": 7,
   "metadata": {
    "ExecuteTime": {
     "end_time": "2020-03-23T15:55:17.850734Z",
     "start_time": "2020-03-23T15:55:17.368073Z"
    }
   },
   "outputs": [
    {
     "name": "stderr",
     "output_type": "stream",
     "text": [
      "11/27/2023 20:28:05 - INFO - finbert.finbert -   device: cuda n_gpu: 8, distributed training: False, 16-bits training: False\n",
      "'(MaxRetryError(\"HTTPSConnectionPool(host='huggingface.co', port=443): Max retries exceeded with url: /bert-base-uncased/resolve/main/tokenizer_config.json (Caused by ConnectTimeoutError(<urllib3.connection.HTTPSConnection object at 0x7f35dc1a7750>, 'Connection to huggingface.co timed out. (connect timeout=10)'))\"), '(Request ID: a6a998e3-4e6f-40ce-9d3d-865e91dc73f5)')' thrown while requesting HEAD https://huggingface.co/bert-base-uncased/resolve/main/tokenizer_config.json\n",
      "11/27/2023 20:28:49 - WARNING - huggingface_hub.utils._http -   '(MaxRetryError(\"HTTPSConnectionPool(host='huggingface.co', port=443): Max retries exceeded with url: /bert-base-uncased/resolve/main/tokenizer_config.json (Caused by ConnectTimeoutError(<urllib3.connection.HTTPSConnection object at 0x7f35dc1a7750>, 'Connection to huggingface.co timed out. (connect timeout=10)'))\"), '(Request ID: a6a998e3-4e6f-40ce-9d3d-865e91dc73f5)')' thrown while requesting HEAD https://huggingface.co/bert-base-uncased/resolve/main/tokenizer_config.json\n"
     ]
    }
   ],
   "source": [
    "finbert.prepare_model(label_list=['positive','negative','neutral'])"
   ]
  },
  {
   "cell_type": "markdown",
   "metadata": {},
   "source": [
    "## Fine-tune the model"
   ]
  },
  {
   "cell_type": "code",
   "execution_count": 8,
   "metadata": {
    "ExecuteTime": {
     "end_time": "2020-03-23T15:55:19.395707Z",
     "start_time": "2020-03-23T15:55:19.349642Z"
    },
    "scrolled": true
   },
   "outputs": [],
   "source": [
    "# Get the training examples\n",
    "train_data = finbert.get_data('train')"
   ]
  },
  {
   "cell_type": "code",
   "execution_count": 10,
   "metadata": {},
   "outputs": [
    {
     "data": {
      "text/plain": [
       "[<finbert.utils.InputExample at 0x7f3480a160d0>,\n",
       " <finbert.utils.InputExample at 0x7f35dc04cc50>,\n",
       " <finbert.utils.InputExample at 0x7f348b7b0410>,\n",
       " <finbert.utils.InputExample at 0x7f348b7b0490>,\n",
       " <finbert.utils.InputExample at 0x7f348b7b0510>,\n",
       " <finbert.utils.InputExample at 0x7f348b7b05d0>,\n",
       " <finbert.utils.InputExample at 0x7f348b7b0650>,\n",
       " <finbert.utils.InputExample at 0x7f348b7b06d0>,\n",
       " <finbert.utils.InputExample at 0x7f348b7b0750>,\n",
       " <finbert.utils.InputExample at 0x7f348b7b0590>,\n",
       " <finbert.utils.InputExample at 0x7f348b7b0810>,\n",
       " <finbert.utils.InputExample at 0x7f348b7b0890>,\n",
       " <finbert.utils.InputExample at 0x7f348b7b0910>,\n",
       " <finbert.utils.InputExample at 0x7f348b7b0990>,\n",
       " <finbert.utils.InputExample at 0x7f348b7b0a10>,\n",
       " <finbert.utils.InputExample at 0x7f348b7b0a90>,\n",
       " <finbert.utils.InputExample at 0x7f348b7b0b10>,\n",
       " <finbert.utils.InputExample at 0x7f348b7b0b90>,\n",
       " <finbert.utils.InputExample at 0x7f348b7b0c10>,\n",
       " <finbert.utils.InputExample at 0x7f348b7b0c90>,\n",
       " <finbert.utils.InputExample at 0x7f348b7b0d10>,\n",
       " <finbert.utils.InputExample at 0x7f348b7b0d90>,\n",
       " <finbert.utils.InputExample at 0x7f348b7b0e10>,\n",
       " <finbert.utils.InputExample at 0x7f348b7b0e90>,\n",
       " <finbert.utils.InputExample at 0x7f348b7b0f10>,\n",
       " <finbert.utils.InputExample at 0x7f348b7b0f90>,\n",
       " <finbert.utils.InputExample at 0x7f348b7b1050>,\n",
       " <finbert.utils.InputExample at 0x7f348b7b10d0>,\n",
       " <finbert.utils.InputExample at 0x7f348b7b1150>,\n",
       " <finbert.utils.InputExample at 0x7f348b7b11d0>,\n",
       " <finbert.utils.InputExample at 0x7f348b7b1250>,\n",
       " <finbert.utils.InputExample at 0x7f348b7b12d0>,\n",
       " <finbert.utils.InputExample at 0x7f348b7b1350>,\n",
       " <finbert.utils.InputExample at 0x7f348b7b13d0>,\n",
       " <finbert.utils.InputExample at 0x7f348b7b1450>,\n",
       " <finbert.utils.InputExample at 0x7f348b7b14d0>,\n",
       " <finbert.utils.InputExample at 0x7f348b7b1550>,\n",
       " <finbert.utils.InputExample at 0x7f348b7b15d0>,\n",
       " <finbert.utils.InputExample at 0x7f348b7b1650>,\n",
       " <finbert.utils.InputExample at 0x7f348b7b16d0>,\n",
       " <finbert.utils.InputExample at 0x7f348b7b1750>,\n",
       " <finbert.utils.InputExample at 0x7f348b7b17d0>,\n",
       " <finbert.utils.InputExample at 0x7f348b7b1850>,\n",
       " <finbert.utils.InputExample at 0x7f348b7b18d0>,\n",
       " <finbert.utils.InputExample at 0x7f348b7b1950>,\n",
       " <finbert.utils.InputExample at 0x7f348b7b19d0>,\n",
       " <finbert.utils.InputExample at 0x7f348b7b1a50>,\n",
       " <finbert.utils.InputExample at 0x7f348b7b1ad0>,\n",
       " <finbert.utils.InputExample at 0x7f348b7b1b50>,\n",
       " <finbert.utils.InputExample at 0x7f348b7b1bd0>,\n",
       " <finbert.utils.InputExample at 0x7f348b7b1c50>,\n",
       " <finbert.utils.InputExample at 0x7f348b7b1cd0>,\n",
       " <finbert.utils.InputExample at 0x7f348b7b1d50>,\n",
       " <finbert.utils.InputExample at 0x7f348b7b1dd0>,\n",
       " <finbert.utils.InputExample at 0x7f348b7b1e50>,\n",
       " <finbert.utils.InputExample at 0x7f348b7b1ed0>,\n",
       " <finbert.utils.InputExample at 0x7f348b7b1f50>,\n",
       " <finbert.utils.InputExample at 0x7f348b7b1fd0>,\n",
       " <finbert.utils.InputExample at 0x7f348b7b2090>,\n",
       " <finbert.utils.InputExample at 0x7f348b7b2110>,\n",
       " <finbert.utils.InputExample at 0x7f348b7b2190>,\n",
       " <finbert.utils.InputExample at 0x7f348b7b2210>,\n",
       " <finbert.utils.InputExample at 0x7f348b7b2290>,\n",
       " <finbert.utils.InputExample at 0x7f348b7b2310>,\n",
       " <finbert.utils.InputExample at 0x7f348b7b2390>,\n",
       " <finbert.utils.InputExample at 0x7f348b7b2410>,\n",
       " <finbert.utils.InputExample at 0x7f348b7b2490>,\n",
       " <finbert.utils.InputExample at 0x7f348b7b2510>,\n",
       " <finbert.utils.InputExample at 0x7f348b7b2590>,\n",
       " <finbert.utils.InputExample at 0x7f348b7b2610>,\n",
       " <finbert.utils.InputExample at 0x7f348b7b2690>,\n",
       " <finbert.utils.InputExample at 0x7f348b7b2710>,\n",
       " <finbert.utils.InputExample at 0x7f348b7b2790>,\n",
       " <finbert.utils.InputExample at 0x7f348b7b2810>,\n",
       " <finbert.utils.InputExample at 0x7f348b7b2890>,\n",
       " <finbert.utils.InputExample at 0x7f348b7b2910>,\n",
       " <finbert.utils.InputExample at 0x7f348b7b2990>,\n",
       " <finbert.utils.InputExample at 0x7f348b7b2a10>,\n",
       " <finbert.utils.InputExample at 0x7f348b7b2a90>,\n",
       " <finbert.utils.InputExample at 0x7f348b7b2b10>,\n",
       " <finbert.utils.InputExample at 0x7f348b7b2b90>,\n",
       " <finbert.utils.InputExample at 0x7f348b7b2c10>,\n",
       " <finbert.utils.InputExample at 0x7f348b7b2c90>,\n",
       " <finbert.utils.InputExample at 0x7f348b7b2d10>,\n",
       " <finbert.utils.InputExample at 0x7f348b7b2d90>,\n",
       " <finbert.utils.InputExample at 0x7f348b7b2e10>,\n",
       " <finbert.utils.InputExample at 0x7f348b7b2e90>,\n",
       " <finbert.utils.InputExample at 0x7f348b7b2f10>,\n",
       " <finbert.utils.InputExample at 0x7f348b7b2f90>,\n",
       " <finbert.utils.InputExample at 0x7f348b7b4050>,\n",
       " <finbert.utils.InputExample at 0x7f348b7b40d0>,\n",
       " <finbert.utils.InputExample at 0x7f348b7b4150>,\n",
       " <finbert.utils.InputExample at 0x7f348b7b41d0>,\n",
       " <finbert.utils.InputExample at 0x7f348b7b4250>,\n",
       " <finbert.utils.InputExample at 0x7f348b7b42d0>,\n",
       " <finbert.utils.InputExample at 0x7f348b7b4350>,\n",
       " <finbert.utils.InputExample at 0x7f348b7b43d0>,\n",
       " <finbert.utils.InputExample at 0x7f348b7b4450>,\n",
       " <finbert.utils.InputExample at 0x7f348b7b44d0>,\n",
       " <finbert.utils.InputExample at 0x7f348b7b4550>,\n",
       " <finbert.utils.InputExample at 0x7f348b7b45d0>,\n",
       " <finbert.utils.InputExample at 0x7f348b7b4650>,\n",
       " <finbert.utils.InputExample at 0x7f348b7b46d0>,\n",
       " <finbert.utils.InputExample at 0x7f348b7b4750>,\n",
       " <finbert.utils.InputExample at 0x7f348b7b47d0>,\n",
       " <finbert.utils.InputExample at 0x7f348b7b4850>,\n",
       " <finbert.utils.InputExample at 0x7f348b7b48d0>,\n",
       " <finbert.utils.InputExample at 0x7f348b7b4950>,\n",
       " <finbert.utils.InputExample at 0x7f348b7b49d0>,\n",
       " <finbert.utils.InputExample at 0x7f348b7b4a50>,\n",
       " <finbert.utils.InputExample at 0x7f348b7b4ad0>,\n",
       " <finbert.utils.InputExample at 0x7f348b7b4b50>,\n",
       " <finbert.utils.InputExample at 0x7f348b7b4bd0>,\n",
       " <finbert.utils.InputExample at 0x7f348b7b4c50>,\n",
       " <finbert.utils.InputExample at 0x7f348b7b4cd0>,\n",
       " <finbert.utils.InputExample at 0x7f348b7b4d50>,\n",
       " <finbert.utils.InputExample at 0x7f348b7b4dd0>,\n",
       " <finbert.utils.InputExample at 0x7f348b7b4e50>,\n",
       " <finbert.utils.InputExample at 0x7f348b7b4ed0>,\n",
       " <finbert.utils.InputExample at 0x7f348b7b4f50>,\n",
       " <finbert.utils.InputExample at 0x7f348b7b4fd0>,\n",
       " <finbert.utils.InputExample at 0x7f348b7b5090>,\n",
       " <finbert.utils.InputExample at 0x7f348b7b5110>,\n",
       " <finbert.utils.InputExample at 0x7f348b7b5190>,\n",
       " <finbert.utils.InputExample at 0x7f348b7b5210>,\n",
       " <finbert.utils.InputExample at 0x7f348b7b5290>,\n",
       " <finbert.utils.InputExample at 0x7f348b7b5310>,\n",
       " <finbert.utils.InputExample at 0x7f348b7b5390>,\n",
       " <finbert.utils.InputExample at 0x7f348b7b5410>,\n",
       " <finbert.utils.InputExample at 0x7f348b7b5490>,\n",
       " <finbert.utils.InputExample at 0x7f348b7b5510>,\n",
       " <finbert.utils.InputExample at 0x7f348b7b5590>,\n",
       " <finbert.utils.InputExample at 0x7f348b7b5610>,\n",
       " <finbert.utils.InputExample at 0x7f348b7b5690>,\n",
       " <finbert.utils.InputExample at 0x7f348b7b5710>,\n",
       " <finbert.utils.InputExample at 0x7f348b7b5790>,\n",
       " <finbert.utils.InputExample at 0x7f348b7b5810>,\n",
       " <finbert.utils.InputExample at 0x7f348b7b5890>,\n",
       " <finbert.utils.InputExample at 0x7f348b7b5910>,\n",
       " <finbert.utils.InputExample at 0x7f348b7b5990>,\n",
       " <finbert.utils.InputExample at 0x7f348b7b5a10>,\n",
       " <finbert.utils.InputExample at 0x7f348b7b5a90>,\n",
       " <finbert.utils.InputExample at 0x7f348b7b5b10>,\n",
       " <finbert.utils.InputExample at 0x7f348b7b5b90>,\n",
       " <finbert.utils.InputExample at 0x7f348b7b5c10>,\n",
       " <finbert.utils.InputExample at 0x7f348b7b5c90>,\n",
       " <finbert.utils.InputExample at 0x7f348b7b5d10>,\n",
       " <finbert.utils.InputExample at 0x7f348b7b5d90>,\n",
       " <finbert.utils.InputExample at 0x7f348b7b5e10>,\n",
       " <finbert.utils.InputExample at 0x7f348b7b5e90>,\n",
       " <finbert.utils.InputExample at 0x7f348b7b5f10>,\n",
       " <finbert.utils.InputExample at 0x7f348b7b5f90>,\n",
       " <finbert.utils.InputExample at 0x7f348b7b7050>,\n",
       " <finbert.utils.InputExample at 0x7f348b7b70d0>,\n",
       " <finbert.utils.InputExample at 0x7f348b7b7150>,\n",
       " <finbert.utils.InputExample at 0x7f348b7b71d0>,\n",
       " <finbert.utils.InputExample at 0x7f348b7b7250>,\n",
       " <finbert.utils.InputExample at 0x7f348b7b72d0>,\n",
       " <finbert.utils.InputExample at 0x7f348b7b7350>,\n",
       " <finbert.utils.InputExample at 0x7f348b7b73d0>,\n",
       " <finbert.utils.InputExample at 0x7f348b7b7450>,\n",
       " <finbert.utils.InputExample at 0x7f348b7b74d0>,\n",
       " <finbert.utils.InputExample at 0x7f348b7b7550>,\n",
       " <finbert.utils.InputExample at 0x7f348b7b75d0>,\n",
       " <finbert.utils.InputExample at 0x7f348b7b7650>,\n",
       " <finbert.utils.InputExample at 0x7f348b7b76d0>,\n",
       " <finbert.utils.InputExample at 0x7f348b7b7750>,\n",
       " <finbert.utils.InputExample at 0x7f348b7b77d0>,\n",
       " <finbert.utils.InputExample at 0x7f348b7b7850>,\n",
       " <finbert.utils.InputExample at 0x7f348b7b78d0>,\n",
       " <finbert.utils.InputExample at 0x7f348b7b7950>,\n",
       " <finbert.utils.InputExample at 0x7f348b7b79d0>,\n",
       " <finbert.utils.InputExample at 0x7f348b7b7a50>,\n",
       " <finbert.utils.InputExample at 0x7f348b7b7ad0>,\n",
       " <finbert.utils.InputExample at 0x7f348b7b7b50>,\n",
       " <finbert.utils.InputExample at 0x7f348b7b7bd0>,\n",
       " <finbert.utils.InputExample at 0x7f348b7b7c50>,\n",
       " <finbert.utils.InputExample at 0x7f348b7b7cd0>,\n",
       " <finbert.utils.InputExample at 0x7f348b7b7d50>,\n",
       " <finbert.utils.InputExample at 0x7f348b7b7dd0>,\n",
       " <finbert.utils.InputExample at 0x7f348b7b7e50>,\n",
       " <finbert.utils.InputExample at 0x7f348b7b7ed0>,\n",
       " <finbert.utils.InputExample at 0x7f348b7b7f50>,\n",
       " <finbert.utils.InputExample at 0x7f348b7b7fd0>,\n",
       " <finbert.utils.InputExample at 0x7f348b7b8090>,\n",
       " <finbert.utils.InputExample at 0x7f348b7b8110>,\n",
       " <finbert.utils.InputExample at 0x7f348b7b8190>,\n",
       " <finbert.utils.InputExample at 0x7f348b7b8210>,\n",
       " <finbert.utils.InputExample at 0x7f348b7b8290>,\n",
       " <finbert.utils.InputExample at 0x7f348b7b8310>,\n",
       " <finbert.utils.InputExample at 0x7f348b7b8390>,\n",
       " <finbert.utils.InputExample at 0x7f348b7b8410>,\n",
       " <finbert.utils.InputExample at 0x7f348b7b8490>,\n",
       " <finbert.utils.InputExample at 0x7f348b7b8510>,\n",
       " <finbert.utils.InputExample at 0x7f348b7b8590>,\n",
       " <finbert.utils.InputExample at 0x7f348b7b8610>,\n",
       " <finbert.utils.InputExample at 0x7f348b7b8690>,\n",
       " <finbert.utils.InputExample at 0x7f348b7b8710>,\n",
       " <finbert.utils.InputExample at 0x7f348b7b8790>,\n",
       " <finbert.utils.InputExample at 0x7f348b7b8810>,\n",
       " <finbert.utils.InputExample at 0x7f348b7b8890>,\n",
       " <finbert.utils.InputExample at 0x7f348b7b8910>,\n",
       " <finbert.utils.InputExample at 0x7f348b7b8990>,\n",
       " <finbert.utils.InputExample at 0x7f348b7b8a10>,\n",
       " <finbert.utils.InputExample at 0x7f348b7b8a90>,\n",
       " <finbert.utils.InputExample at 0x7f348b7b8b10>,\n",
       " <finbert.utils.InputExample at 0x7f348b7b8b90>,\n",
       " <finbert.utils.InputExample at 0x7f348b7b8c10>,\n",
       " <finbert.utils.InputExample at 0x7f348b7b8c90>,\n",
       " <finbert.utils.InputExample at 0x7f348b7b8d10>,\n",
       " <finbert.utils.InputExample at 0x7f348b7b8d90>,\n",
       " <finbert.utils.InputExample at 0x7f348b7b8e10>,\n",
       " <finbert.utils.InputExample at 0x7f348b7b8e90>,\n",
       " <finbert.utils.InputExample at 0x7f348b7b8f10>,\n",
       " <finbert.utils.InputExample at 0x7f348b7b8f90>,\n",
       " <finbert.utils.InputExample at 0x7f348b7bb050>,\n",
       " <finbert.utils.InputExample at 0x7f348b7bb0d0>,\n",
       " <finbert.utils.InputExample at 0x7f348b7bb150>,\n",
       " <finbert.utils.InputExample at 0x7f348b7bb1d0>,\n",
       " <finbert.utils.InputExample at 0x7f348b7bb250>,\n",
       " <finbert.utils.InputExample at 0x7f348b7bb2d0>,\n",
       " <finbert.utils.InputExample at 0x7f348b7bb350>,\n",
       " <finbert.utils.InputExample at 0x7f348b7bb3d0>,\n",
       " <finbert.utils.InputExample at 0x7f348b7bb450>,\n",
       " <finbert.utils.InputExample at 0x7f348b7bb4d0>,\n",
       " <finbert.utils.InputExample at 0x7f348b7bb550>,\n",
       " <finbert.utils.InputExample at 0x7f348b7bb5d0>,\n",
       " <finbert.utils.InputExample at 0x7f348b7bb650>,\n",
       " <finbert.utils.InputExample at 0x7f348b7bb6d0>,\n",
       " <finbert.utils.InputExample at 0x7f348b7bb750>,\n",
       " <finbert.utils.InputExample at 0x7f348b7bb7d0>,\n",
       " <finbert.utils.InputExample at 0x7f348b7bb850>,\n",
       " <finbert.utils.InputExample at 0x7f348b7bb8d0>,\n",
       " <finbert.utils.InputExample at 0x7f348b7bb950>,\n",
       " <finbert.utils.InputExample at 0x7f348b7bb9d0>,\n",
       " <finbert.utils.InputExample at 0x7f348b7bba50>,\n",
       " <finbert.utils.InputExample at 0x7f348b7bbad0>,\n",
       " <finbert.utils.InputExample at 0x7f348b7bbb50>,\n",
       " <finbert.utils.InputExample at 0x7f348b7bbbd0>,\n",
       " <finbert.utils.InputExample at 0x7f348b7bbc50>,\n",
       " <finbert.utils.InputExample at 0x7f348b7bbcd0>,\n",
       " <finbert.utils.InputExample at 0x7f348b7bbd50>,\n",
       " <finbert.utils.InputExample at 0x7f348b7bbdd0>,\n",
       " <finbert.utils.InputExample at 0x7f348b7bbe50>,\n",
       " <finbert.utils.InputExample at 0x7f348b7bbed0>,\n",
       " <finbert.utils.InputExample at 0x7f348b7bbf50>,\n",
       " <finbert.utils.InputExample at 0x7f348b7bbfd0>,\n",
       " <finbert.utils.InputExample at 0x7f348b7bd090>,\n",
       " <finbert.utils.InputExample at 0x7f348b7bd110>,\n",
       " <finbert.utils.InputExample at 0x7f348b7bd190>,\n",
       " <finbert.utils.InputExample at 0x7f348b7bd210>,\n",
       " <finbert.utils.InputExample at 0x7f348b7bd290>,\n",
       " <finbert.utils.InputExample at 0x7f348b7bd310>,\n",
       " <finbert.utils.InputExample at 0x7f348b7bd390>,\n",
       " <finbert.utils.InputExample at 0x7f348b7bd410>,\n",
       " <finbert.utils.InputExample at 0x7f348b7bd490>,\n",
       " <finbert.utils.InputExample at 0x7f348b7bd510>,\n",
       " <finbert.utils.InputExample at 0x7f348b7bd590>,\n",
       " <finbert.utils.InputExample at 0x7f348b7bd610>,\n",
       " <finbert.utils.InputExample at 0x7f348b7bd690>,\n",
       " <finbert.utils.InputExample at 0x7f348b7bd710>,\n",
       " <finbert.utils.InputExample at 0x7f348b7bd790>,\n",
       " <finbert.utils.InputExample at 0x7f348b7bd810>,\n",
       " <finbert.utils.InputExample at 0x7f348b7bd890>,\n",
       " <finbert.utils.InputExample at 0x7f348b7bd910>,\n",
       " <finbert.utils.InputExample at 0x7f348b7bd990>,\n",
       " <finbert.utils.InputExample at 0x7f348b7bda10>,\n",
       " <finbert.utils.InputExample at 0x7f348b7bda90>,\n",
       " <finbert.utils.InputExample at 0x7f348b7bdb10>,\n",
       " <finbert.utils.InputExample at 0x7f348b7bdb90>,\n",
       " <finbert.utils.InputExample at 0x7f348b7bdc10>,\n",
       " <finbert.utils.InputExample at 0x7f348b7bdc90>,\n",
       " <finbert.utils.InputExample at 0x7f348b7bdd10>,\n",
       " <finbert.utils.InputExample at 0x7f348b7bdd90>,\n",
       " <finbert.utils.InputExample at 0x7f348b7bde10>,\n",
       " <finbert.utils.InputExample at 0x7f348b7bde90>,\n",
       " <finbert.utils.InputExample at 0x7f348b7bdf10>,\n",
       " <finbert.utils.InputExample at 0x7f348b7bdf90>,\n",
       " <finbert.utils.InputExample at 0x7f348b7bf050>,\n",
       " <finbert.utils.InputExample at 0x7f348b7bf0d0>,\n",
       " <finbert.utils.InputExample at 0x7f348b7bf150>,\n",
       " <finbert.utils.InputExample at 0x7f348b7bf1d0>,\n",
       " <finbert.utils.InputExample at 0x7f348b7bf250>,\n",
       " <finbert.utils.InputExample at 0x7f348b7bf2d0>,\n",
       " <finbert.utils.InputExample at 0x7f348b7bf350>,\n",
       " <finbert.utils.InputExample at 0x7f348b7bf3d0>,\n",
       " <finbert.utils.InputExample at 0x7f348b7bf450>,\n",
       " <finbert.utils.InputExample at 0x7f348b7bf4d0>,\n",
       " <finbert.utils.InputExample at 0x7f348b7bf550>,\n",
       " <finbert.utils.InputExample at 0x7f348b7bf5d0>,\n",
       " <finbert.utils.InputExample at 0x7f348b7bf650>,\n",
       " <finbert.utils.InputExample at 0x7f348b7bf6d0>,\n",
       " <finbert.utils.InputExample at 0x7f348b7bf750>,\n",
       " <finbert.utils.InputExample at 0x7f348b7bf7d0>,\n",
       " <finbert.utils.InputExample at 0x7f348b7bf850>,\n",
       " <finbert.utils.InputExample at 0x7f348b7bf8d0>,\n",
       " <finbert.utils.InputExample at 0x7f348b7bf950>,\n",
       " <finbert.utils.InputExample at 0x7f348b7bf9d0>,\n",
       " <finbert.utils.InputExample at 0x7f348b7bfa50>,\n",
       " <finbert.utils.InputExample at 0x7f348b7bfad0>,\n",
       " <finbert.utils.InputExample at 0x7f348b7bfb50>,\n",
       " <finbert.utils.InputExample at 0x7f348b7bfbd0>,\n",
       " <finbert.utils.InputExample at 0x7f348b7bfc50>,\n",
       " <finbert.utils.InputExample at 0x7f348b7bfcd0>,\n",
       " <finbert.utils.InputExample at 0x7f348b7bfd50>,\n",
       " <finbert.utils.InputExample at 0x7f348b7bfdd0>,\n",
       " <finbert.utils.InputExample at 0x7f348b7bfe50>,\n",
       " <finbert.utils.InputExample at 0x7f348b7bfed0>,\n",
       " <finbert.utils.InputExample at 0x7f348b7bff50>,\n",
       " <finbert.utils.InputExample at 0x7f348b7bffd0>,\n",
       " <finbert.utils.InputExample at 0x7f348b7c1090>,\n",
       " <finbert.utils.InputExample at 0x7f348b7c1110>,\n",
       " <finbert.utils.InputExample at 0x7f348b7c1190>,\n",
       " <finbert.utils.InputExample at 0x7f348b7c1210>,\n",
       " <finbert.utils.InputExample at 0x7f348b7c1290>,\n",
       " <finbert.utils.InputExample at 0x7f348b7c1310>,\n",
       " <finbert.utils.InputExample at 0x7f348b7c1390>,\n",
       " <finbert.utils.InputExample at 0x7f348b7c1410>,\n",
       " <finbert.utils.InputExample at 0x7f348b7c1490>,\n",
       " <finbert.utils.InputExample at 0x7f348b7c1510>,\n",
       " <finbert.utils.InputExample at 0x7f348b7c1590>,\n",
       " <finbert.utils.InputExample at 0x7f348b7c1610>,\n",
       " <finbert.utils.InputExample at 0x7f348b7c1690>,\n",
       " <finbert.utils.InputExample at 0x7f348b7c1710>,\n",
       " <finbert.utils.InputExample at 0x7f348b7c1790>,\n",
       " <finbert.utils.InputExample at 0x7f348b7c1810>,\n",
       " <finbert.utils.InputExample at 0x7f348b7c1890>,\n",
       " <finbert.utils.InputExample at 0x7f348b7c1910>,\n",
       " <finbert.utils.InputExample at 0x7f348b7c1990>,\n",
       " <finbert.utils.InputExample at 0x7f348b7c1a10>,\n",
       " <finbert.utils.InputExample at 0x7f348b7c1a90>,\n",
       " <finbert.utils.InputExample at 0x7f348b7c1b10>,\n",
       " <finbert.utils.InputExample at 0x7f348b7c1b90>,\n",
       " <finbert.utils.InputExample at 0x7f348b7c1c10>,\n",
       " <finbert.utils.InputExample at 0x7f348b7c1c90>,\n",
       " <finbert.utils.InputExample at 0x7f348b7c1d10>,\n",
       " <finbert.utils.InputExample at 0x7f348b7c1d90>,\n",
       " <finbert.utils.InputExample at 0x7f348b7c1e10>,\n",
       " <finbert.utils.InputExample at 0x7f348b7c1e90>,\n",
       " <finbert.utils.InputExample at 0x7f348b7c1f10>,\n",
       " <finbert.utils.InputExample at 0x7f348b7c1f90>,\n",
       " <finbert.utils.InputExample at 0x7f348b7c3050>,\n",
       " <finbert.utils.InputExample at 0x7f348b7c30d0>,\n",
       " <finbert.utils.InputExample at 0x7f348b7c3150>,\n",
       " <finbert.utils.InputExample at 0x7f348b7c31d0>,\n",
       " <finbert.utils.InputExample at 0x7f348b7c3250>,\n",
       " <finbert.utils.InputExample at 0x7f348b7c32d0>,\n",
       " <finbert.utils.InputExample at 0x7f348b7c3350>,\n",
       " <finbert.utils.InputExample at 0x7f348b7c33d0>,\n",
       " <finbert.utils.InputExample at 0x7f348b7c3450>,\n",
       " <finbert.utils.InputExample at 0x7f348b7c34d0>,\n",
       " <finbert.utils.InputExample at 0x7f348b7c3550>,\n",
       " <finbert.utils.InputExample at 0x7f348b7c35d0>,\n",
       " <finbert.utils.InputExample at 0x7f348b7c3650>,\n",
       " <finbert.utils.InputExample at 0x7f348b7c36d0>,\n",
       " <finbert.utils.InputExample at 0x7f348b7c3750>,\n",
       " <finbert.utils.InputExample at 0x7f348b7c37d0>,\n",
       " <finbert.utils.InputExample at 0x7f348b7c3850>,\n",
       " <finbert.utils.InputExample at 0x7f348b7c38d0>,\n",
       " <finbert.utils.InputExample at 0x7f348b7c3950>,\n",
       " <finbert.utils.InputExample at 0x7f348b7c39d0>,\n",
       " <finbert.utils.InputExample at 0x7f348b7c3a50>,\n",
       " <finbert.utils.InputExample at 0x7f348b7c3ad0>,\n",
       " <finbert.utils.InputExample at 0x7f348b7c3b50>,\n",
       " <finbert.utils.InputExample at 0x7f348b7c3bd0>,\n",
       " <finbert.utils.InputExample at 0x7f348b7c3c50>,\n",
       " <finbert.utils.InputExample at 0x7f348b7c3cd0>,\n",
       " <finbert.utils.InputExample at 0x7f348b7c3d50>,\n",
       " <finbert.utils.InputExample at 0x7f348b7c3dd0>,\n",
       " <finbert.utils.InputExample at 0x7f348b7c3e50>,\n",
       " <finbert.utils.InputExample at 0x7f348b7c3ed0>,\n",
       " <finbert.utils.InputExample at 0x7f348b7c3f50>,\n",
       " <finbert.utils.InputExample at 0x7f348b7c3fd0>,\n",
       " <finbert.utils.InputExample at 0x7f348b745090>,\n",
       " <finbert.utils.InputExample at 0x7f348b745110>,\n",
       " <finbert.utils.InputExample at 0x7f348b745190>,\n",
       " <finbert.utils.InputExample at 0x7f348b745210>,\n",
       " <finbert.utils.InputExample at 0x7f348b745290>,\n",
       " <finbert.utils.InputExample at 0x7f348b745310>,\n",
       " <finbert.utils.InputExample at 0x7f348b745390>,\n",
       " <finbert.utils.InputExample at 0x7f348b745410>,\n",
       " <finbert.utils.InputExample at 0x7f348b745490>,\n",
       " <finbert.utils.InputExample at 0x7f348b745510>,\n",
       " <finbert.utils.InputExample at 0x7f348b745590>,\n",
       " <finbert.utils.InputExample at 0x7f348b745610>,\n",
       " <finbert.utils.InputExample at 0x7f348b745690>,\n",
       " <finbert.utils.InputExample at 0x7f348b745710>,\n",
       " <finbert.utils.InputExample at 0x7f348b745790>,\n",
       " <finbert.utils.InputExample at 0x7f348b745810>,\n",
       " <finbert.utils.InputExample at 0x7f348b745890>,\n",
       " <finbert.utils.InputExample at 0x7f348b745910>,\n",
       " <finbert.utils.InputExample at 0x7f348b745990>,\n",
       " <finbert.utils.InputExample at 0x7f348b745a10>,\n",
       " <finbert.utils.InputExample at 0x7f348b745a90>,\n",
       " <finbert.utils.InputExample at 0x7f348b745b10>,\n",
       " <finbert.utils.InputExample at 0x7f348b745b90>,\n",
       " <finbert.utils.InputExample at 0x7f348b745c10>,\n",
       " <finbert.utils.InputExample at 0x7f348b745c90>,\n",
       " <finbert.utils.InputExample at 0x7f348b745d10>,\n",
       " <finbert.utils.InputExample at 0x7f348b745d90>,\n",
       " <finbert.utils.InputExample at 0x7f348b745e10>,\n",
       " <finbert.utils.InputExample at 0x7f348b745e90>,\n",
       " <finbert.utils.InputExample at 0x7f348b745f10>,\n",
       " <finbert.utils.InputExample at 0x7f348b745f90>,\n",
       " <finbert.utils.InputExample at 0x7f348b747050>,\n",
       " <finbert.utils.InputExample at 0x7f348b7470d0>,\n",
       " <finbert.utils.InputExample at 0x7f348b747150>,\n",
       " <finbert.utils.InputExample at 0x7f348b7471d0>,\n",
       " <finbert.utils.InputExample at 0x7f348b747250>,\n",
       " <finbert.utils.InputExample at 0x7f348b7472d0>,\n",
       " <finbert.utils.InputExample at 0x7f348b747350>,\n",
       " <finbert.utils.InputExample at 0x7f348b7473d0>,\n",
       " <finbert.utils.InputExample at 0x7f348b747450>,\n",
       " <finbert.utils.InputExample at 0x7f348b7474d0>,\n",
       " <finbert.utils.InputExample at 0x7f348b747550>,\n",
       " <finbert.utils.InputExample at 0x7f348b7475d0>,\n",
       " <finbert.utils.InputExample at 0x7f348b747650>,\n",
       " <finbert.utils.InputExample at 0x7f348b7476d0>,\n",
       " <finbert.utils.InputExample at 0x7f348b747750>,\n",
       " <finbert.utils.InputExample at 0x7f348b7477d0>,\n",
       " <finbert.utils.InputExample at 0x7f348b747850>,\n",
       " <finbert.utils.InputExample at 0x7f348b7478d0>,\n",
       " <finbert.utils.InputExample at 0x7f348b747950>,\n",
       " <finbert.utils.InputExample at 0x7f348b7479d0>,\n",
       " <finbert.utils.InputExample at 0x7f348b747a50>,\n",
       " <finbert.utils.InputExample at 0x7f348b747ad0>,\n",
       " <finbert.utils.InputExample at 0x7f348b747b50>,\n",
       " <finbert.utils.InputExample at 0x7f348b747bd0>,\n",
       " <finbert.utils.InputExample at 0x7f348b747c50>,\n",
       " <finbert.utils.InputExample at 0x7f348b747cd0>,\n",
       " <finbert.utils.InputExample at 0x7f348b747d50>,\n",
       " <finbert.utils.InputExample at 0x7f348b747dd0>,\n",
       " <finbert.utils.InputExample at 0x7f348b747e50>,\n",
       " <finbert.utils.InputExample at 0x7f348b747ed0>,\n",
       " <finbert.utils.InputExample at 0x7f348b747f50>,\n",
       " <finbert.utils.InputExample at 0x7f348b747fd0>,\n",
       " <finbert.utils.InputExample at 0x7f348b748090>,\n",
       " <finbert.utils.InputExample at 0x7f348b748110>,\n",
       " <finbert.utils.InputExample at 0x7f348b748190>,\n",
       " <finbert.utils.InputExample at 0x7f348b748210>,\n",
       " <finbert.utils.InputExample at 0x7f348b748290>,\n",
       " <finbert.utils.InputExample at 0x7f348b748310>,\n",
       " <finbert.utils.InputExample at 0x7f348b748390>,\n",
       " <finbert.utils.InputExample at 0x7f348b748410>,\n",
       " <finbert.utils.InputExample at 0x7f348b748490>,\n",
       " <finbert.utils.InputExample at 0x7f348b748510>,\n",
       " <finbert.utils.InputExample at 0x7f348b748590>,\n",
       " <finbert.utils.InputExample at 0x7f348b748610>,\n",
       " <finbert.utils.InputExample at 0x7f348b748690>,\n",
       " <finbert.utils.InputExample at 0x7f348b748710>,\n",
       " <finbert.utils.InputExample at 0x7f348b748790>,\n",
       " <finbert.utils.InputExample at 0x7f348b748810>,\n",
       " <finbert.utils.InputExample at 0x7f348b748890>,\n",
       " <finbert.utils.InputExample at 0x7f348b748910>,\n",
       " <finbert.utils.InputExample at 0x7f348b748990>,\n",
       " <finbert.utils.InputExample at 0x7f348b748a10>,\n",
       " <finbert.utils.InputExample at 0x7f348b748a90>,\n",
       " <finbert.utils.InputExample at 0x7f348b748b10>,\n",
       " <finbert.utils.InputExample at 0x7f348b748b90>,\n",
       " <finbert.utils.InputExample at 0x7f348b748c10>,\n",
       " <finbert.utils.InputExample at 0x7f348b748c90>,\n",
       " <finbert.utils.InputExample at 0x7f348b748d10>,\n",
       " <finbert.utils.InputExample at 0x7f348b748d90>,\n",
       " <finbert.utils.InputExample at 0x7f348b748e10>,\n",
       " <finbert.utils.InputExample at 0x7f348b748e90>,\n",
       " <finbert.utils.InputExample at 0x7f348b748f10>,\n",
       " <finbert.utils.InputExample at 0x7f348b748f90>,\n",
       " <finbert.utils.InputExample at 0x7f348b74b050>,\n",
       " <finbert.utils.InputExample at 0x7f348b74b0d0>,\n",
       " <finbert.utils.InputExample at 0x7f348b74b150>,\n",
       " <finbert.utils.InputExample at 0x7f348b74b1d0>,\n",
       " <finbert.utils.InputExample at 0x7f348b74b250>,\n",
       " <finbert.utils.InputExample at 0x7f348b74b2d0>,\n",
       " <finbert.utils.InputExample at 0x7f348b74b350>,\n",
       " <finbert.utils.InputExample at 0x7f348b74b3d0>,\n",
       " <finbert.utils.InputExample at 0x7f348b74b450>,\n",
       " <finbert.utils.InputExample at 0x7f348b74b4d0>,\n",
       " <finbert.utils.InputExample at 0x7f348b74b550>,\n",
       " <finbert.utils.InputExample at 0x7f348b74b5d0>,\n",
       " <finbert.utils.InputExample at 0x7f348b74b650>,\n",
       " <finbert.utils.InputExample at 0x7f348b74b6d0>,\n",
       " <finbert.utils.InputExample at 0x7f348b74b750>,\n",
       " <finbert.utils.InputExample at 0x7f348b74b7d0>,\n",
       " <finbert.utils.InputExample at 0x7f348b74b850>,\n",
       " <finbert.utils.InputExample at 0x7f348b74b8d0>,\n",
       " <finbert.utils.InputExample at 0x7f348b74b950>,\n",
       " <finbert.utils.InputExample at 0x7f348b74b9d0>,\n",
       " <finbert.utils.InputExample at 0x7f348b74ba50>,\n",
       " <finbert.utils.InputExample at 0x7f348b74bad0>,\n",
       " <finbert.utils.InputExample at 0x7f348b74bb50>,\n",
       " <finbert.utils.InputExample at 0x7f348b74bbd0>,\n",
       " <finbert.utils.InputExample at 0x7f348b74bc50>,\n",
       " <finbert.utils.InputExample at 0x7f348b74bcd0>,\n",
       " <finbert.utils.InputExample at 0x7f348b74bd50>,\n",
       " <finbert.utils.InputExample at 0x7f348b74bdd0>,\n",
       " <finbert.utils.InputExample at 0x7f348b74be50>,\n",
       " <finbert.utils.InputExample at 0x7f348b74bed0>,\n",
       " <finbert.utils.InputExample at 0x7f348b74bf50>,\n",
       " <finbert.utils.InputExample at 0x7f348b74bfd0>,\n",
       " <finbert.utils.InputExample at 0x7f348b74d090>,\n",
       " <finbert.utils.InputExample at 0x7f348b74d110>,\n",
       " <finbert.utils.InputExample at 0x7f348b74d190>,\n",
       " <finbert.utils.InputExample at 0x7f348b74d210>,\n",
       " <finbert.utils.InputExample at 0x7f348b74d290>,\n",
       " <finbert.utils.InputExample at 0x7f348b74d310>,\n",
       " <finbert.utils.InputExample at 0x7f348b74d390>,\n",
       " <finbert.utils.InputExample at 0x7f348b74d410>,\n",
       " <finbert.utils.InputExample at 0x7f348b74d490>,\n",
       " <finbert.utils.InputExample at 0x7f348b74d510>,\n",
       " <finbert.utils.InputExample at 0x7f348b74d590>,\n",
       " <finbert.utils.InputExample at 0x7f348b74d610>,\n",
       " <finbert.utils.InputExample at 0x7f348b74d690>,\n",
       " <finbert.utils.InputExample at 0x7f348b74d710>,\n",
       " <finbert.utils.InputExample at 0x7f348b74d790>,\n",
       " <finbert.utils.InputExample at 0x7f348b74d810>,\n",
       " <finbert.utils.InputExample at 0x7f348b74d890>,\n",
       " <finbert.utils.InputExample at 0x7f348b74d910>,\n",
       " <finbert.utils.InputExample at 0x7f348b74d990>,\n",
       " <finbert.utils.InputExample at 0x7f348b74da10>,\n",
       " <finbert.utils.InputExample at 0x7f348b74da90>,\n",
       " <finbert.utils.InputExample at 0x7f348b74db10>,\n",
       " <finbert.utils.InputExample at 0x7f348b74db90>,\n",
       " <finbert.utils.InputExample at 0x7f348b74dc10>,\n",
       " <finbert.utils.InputExample at 0x7f348b74dc90>,\n",
       " <finbert.utils.InputExample at 0x7f348b74dd10>,\n",
       " <finbert.utils.InputExample at 0x7f348b74dd90>,\n",
       " <finbert.utils.InputExample at 0x7f348b74de10>,\n",
       " <finbert.utils.InputExample at 0x7f348b74de90>,\n",
       " <finbert.utils.InputExample at 0x7f348b74df10>,\n",
       " <finbert.utils.InputExample at 0x7f348b74df90>,\n",
       " <finbert.utils.InputExample at 0x7f348b74f050>,\n",
       " <finbert.utils.InputExample at 0x7f348b74f0d0>,\n",
       " <finbert.utils.InputExample at 0x7f348b74f150>,\n",
       " <finbert.utils.InputExample at 0x7f348b74f1d0>,\n",
       " <finbert.utils.InputExample at 0x7f348b74f250>,\n",
       " <finbert.utils.InputExample at 0x7f348b74f2d0>,\n",
       " <finbert.utils.InputExample at 0x7f348b74f350>,\n",
       " <finbert.utils.InputExample at 0x7f348b74f3d0>,\n",
       " <finbert.utils.InputExample at 0x7f348b74f450>,\n",
       " <finbert.utils.InputExample at 0x7f348b74f4d0>,\n",
       " <finbert.utils.InputExample at 0x7f348b74f550>,\n",
       " <finbert.utils.InputExample at 0x7f348b74f5d0>,\n",
       " <finbert.utils.InputExample at 0x7f348b74f650>,\n",
       " <finbert.utils.InputExample at 0x7f348b74f6d0>,\n",
       " <finbert.utils.InputExample at 0x7f348b74f750>,\n",
       " <finbert.utils.InputExample at 0x7f348b74f7d0>,\n",
       " <finbert.utils.InputExample at 0x7f348b74f850>,\n",
       " <finbert.utils.InputExample at 0x7f348b74f8d0>,\n",
       " <finbert.utils.InputExample at 0x7f348b74f950>,\n",
       " <finbert.utils.InputExample at 0x7f348b74f9d0>,\n",
       " <finbert.utils.InputExample at 0x7f348b74fa50>,\n",
       " <finbert.utils.InputExample at 0x7f348b74fad0>,\n",
       " <finbert.utils.InputExample at 0x7f348b74fb50>,\n",
       " <finbert.utils.InputExample at 0x7f348b74fbd0>,\n",
       " <finbert.utils.InputExample at 0x7f348b74fc50>,\n",
       " <finbert.utils.InputExample at 0x7f348b74fcd0>,\n",
       " <finbert.utils.InputExample at 0x7f348b74fd50>,\n",
       " <finbert.utils.InputExample at 0x7f348b74fdd0>,\n",
       " <finbert.utils.InputExample at 0x7f348b74fe50>,\n",
       " <finbert.utils.InputExample at 0x7f348b74fed0>,\n",
       " <finbert.utils.InputExample at 0x7f348b74ff50>,\n",
       " <finbert.utils.InputExample at 0x7f348b74ffd0>,\n",
       " <finbert.utils.InputExample at 0x7f348b751090>,\n",
       " <finbert.utils.InputExample at 0x7f348b751110>,\n",
       " <finbert.utils.InputExample at 0x7f348b751190>,\n",
       " <finbert.utils.InputExample at 0x7f348b751210>,\n",
       " <finbert.utils.InputExample at 0x7f348b751290>,\n",
       " <finbert.utils.InputExample at 0x7f348b751310>,\n",
       " <finbert.utils.InputExample at 0x7f348b751390>,\n",
       " <finbert.utils.InputExample at 0x7f348b751410>,\n",
       " <finbert.utils.InputExample at 0x7f348b751490>,\n",
       " <finbert.utils.InputExample at 0x7f348b751510>,\n",
       " <finbert.utils.InputExample at 0x7f348b751590>,\n",
       " <finbert.utils.InputExample at 0x7f348b751610>,\n",
       " <finbert.utils.InputExample at 0x7f348b751690>,\n",
       " <finbert.utils.InputExample at 0x7f348b751710>,\n",
       " <finbert.utils.InputExample at 0x7f348b751790>,\n",
       " <finbert.utils.InputExample at 0x7f348b751810>,\n",
       " <finbert.utils.InputExample at 0x7f348b751890>,\n",
       " <finbert.utils.InputExample at 0x7f348b751910>,\n",
       " <finbert.utils.InputExample at 0x7f348b751990>,\n",
       " <finbert.utils.InputExample at 0x7f348b751a10>,\n",
       " <finbert.utils.InputExample at 0x7f348b751a90>,\n",
       " <finbert.utils.InputExample at 0x7f348b751b10>,\n",
       " <finbert.utils.InputExample at 0x7f348b751b90>,\n",
       " <finbert.utils.InputExample at 0x7f348b751c10>,\n",
       " <finbert.utils.InputExample at 0x7f348b751c90>,\n",
       " <finbert.utils.InputExample at 0x7f348b751d10>,\n",
       " <finbert.utils.InputExample at 0x7f348b751d90>,\n",
       " <finbert.utils.InputExample at 0x7f348b751e10>,\n",
       " <finbert.utils.InputExample at 0x7f348b751e90>,\n",
       " <finbert.utils.InputExample at 0x7f348b751f10>,\n",
       " <finbert.utils.InputExample at 0x7f348b751f90>,\n",
       " <finbert.utils.InputExample at 0x7f348b753050>,\n",
       " <finbert.utils.InputExample at 0x7f348b7530d0>,\n",
       " <finbert.utils.InputExample at 0x7f348b753150>,\n",
       " <finbert.utils.InputExample at 0x7f348b7531d0>,\n",
       " <finbert.utils.InputExample at 0x7f348b753250>,\n",
       " <finbert.utils.InputExample at 0x7f348b7532d0>,\n",
       " <finbert.utils.InputExample at 0x7f348b753350>,\n",
       " <finbert.utils.InputExample at 0x7f348b7533d0>,\n",
       " <finbert.utils.InputExample at 0x7f348b753450>,\n",
       " <finbert.utils.InputExample at 0x7f348b7534d0>,\n",
       " <finbert.utils.InputExample at 0x7f348b753550>,\n",
       " <finbert.utils.InputExample at 0x7f348b7535d0>,\n",
       " <finbert.utils.InputExample at 0x7f348b753650>,\n",
       " <finbert.utils.InputExample at 0x7f348b7536d0>,\n",
       " <finbert.utils.InputExample at 0x7f348b753750>,\n",
       " <finbert.utils.InputExample at 0x7f348b7537d0>,\n",
       " <finbert.utils.InputExample at 0x7f348b753850>,\n",
       " <finbert.utils.InputExample at 0x7f348b7538d0>,\n",
       " <finbert.utils.InputExample at 0x7f348b753950>,\n",
       " <finbert.utils.InputExample at 0x7f348b7539d0>,\n",
       " <finbert.utils.InputExample at 0x7f348b753a50>,\n",
       " <finbert.utils.InputExample at 0x7f348b753ad0>,\n",
       " <finbert.utils.InputExample at 0x7f348b753b50>,\n",
       " <finbert.utils.InputExample at 0x7f348b753bd0>,\n",
       " <finbert.utils.InputExample at 0x7f348b753c50>,\n",
       " <finbert.utils.InputExample at 0x7f348b753cd0>,\n",
       " <finbert.utils.InputExample at 0x7f348b753d50>,\n",
       " <finbert.utils.InputExample at 0x7f348b753dd0>,\n",
       " <finbert.utils.InputExample at 0x7f348b753e50>,\n",
       " <finbert.utils.InputExample at 0x7f348b753ed0>,\n",
       " <finbert.utils.InputExample at 0x7f348b753f50>,\n",
       " <finbert.utils.InputExample at 0x7f348b753fd0>,\n",
       " <finbert.utils.InputExample at 0x7f348b755090>,\n",
       " <finbert.utils.InputExample at 0x7f348b755110>,\n",
       " <finbert.utils.InputExample at 0x7f348b755190>,\n",
       " <finbert.utils.InputExample at 0x7f348b755210>,\n",
       " <finbert.utils.InputExample at 0x7f348b755290>,\n",
       " <finbert.utils.InputExample at 0x7f348b755310>,\n",
       " <finbert.utils.InputExample at 0x7f348b755390>,\n",
       " <finbert.utils.InputExample at 0x7f348b755410>,\n",
       " <finbert.utils.InputExample at 0x7f348b755490>,\n",
       " <finbert.utils.InputExample at 0x7f348b755510>,\n",
       " <finbert.utils.InputExample at 0x7f348b755590>,\n",
       " <finbert.utils.InputExample at 0x7f348b755610>,\n",
       " <finbert.utils.InputExample at 0x7f348b755690>,\n",
       " <finbert.utils.InputExample at 0x7f348b755710>,\n",
       " <finbert.utils.InputExample at 0x7f348b755790>,\n",
       " <finbert.utils.InputExample at 0x7f348b755810>,\n",
       " <finbert.utils.InputExample at 0x7f348b755890>,\n",
       " <finbert.utils.InputExample at 0x7f348b755910>,\n",
       " <finbert.utils.InputExample at 0x7f348b755990>,\n",
       " <finbert.utils.InputExample at 0x7f348b755a10>,\n",
       " <finbert.utils.InputExample at 0x7f348b755a90>,\n",
       " <finbert.utils.InputExample at 0x7f348b755b10>,\n",
       " <finbert.utils.InputExample at 0x7f348b755b90>,\n",
       " <finbert.utils.InputExample at 0x7f348b755c10>,\n",
       " <finbert.utils.InputExample at 0x7f348b755c90>,\n",
       " <finbert.utils.InputExample at 0x7f348b755d10>,\n",
       " <finbert.utils.InputExample at 0x7f348b755d90>,\n",
       " <finbert.utils.InputExample at 0x7f348b755e10>,\n",
       " <finbert.utils.InputExample at 0x7f348b755e90>,\n",
       " <finbert.utils.InputExample at 0x7f348b755f10>,\n",
       " <finbert.utils.InputExample at 0x7f348b755f90>,\n",
       " <finbert.utils.InputExample at 0x7f348b757050>,\n",
       " <finbert.utils.InputExample at 0x7f348b7570d0>,\n",
       " <finbert.utils.InputExample at 0x7f348b757150>,\n",
       " <finbert.utils.InputExample at 0x7f348b7571d0>,\n",
       " <finbert.utils.InputExample at 0x7f348b757250>,\n",
       " <finbert.utils.InputExample at 0x7f348b7572d0>,\n",
       " <finbert.utils.InputExample at 0x7f348b757350>,\n",
       " <finbert.utils.InputExample at 0x7f348b7573d0>,\n",
       " <finbert.utils.InputExample at 0x7f348b757450>,\n",
       " <finbert.utils.InputExample at 0x7f348b7574d0>,\n",
       " <finbert.utils.InputExample at 0x7f348b757550>,\n",
       " <finbert.utils.InputExample at 0x7f348b7575d0>,\n",
       " <finbert.utils.InputExample at 0x7f348b757650>,\n",
       " <finbert.utils.InputExample at 0x7f348b7576d0>,\n",
       " <finbert.utils.InputExample at 0x7f348b757750>,\n",
       " <finbert.utils.InputExample at 0x7f348b7577d0>,\n",
       " <finbert.utils.InputExample at 0x7f348b757850>,\n",
       " <finbert.utils.InputExample at 0x7f348b7578d0>,\n",
       " <finbert.utils.InputExample at 0x7f348b757950>,\n",
       " <finbert.utils.InputExample at 0x7f348b7579d0>,\n",
       " <finbert.utils.InputExample at 0x7f348b757a50>,\n",
       " <finbert.utils.InputExample at 0x7f348b757ad0>,\n",
       " <finbert.utils.InputExample at 0x7f348b757b50>,\n",
       " <finbert.utils.InputExample at 0x7f348b757bd0>,\n",
       " <finbert.utils.InputExample at 0x7f348b757c50>,\n",
       " <finbert.utils.InputExample at 0x7f348b757cd0>,\n",
       " <finbert.utils.InputExample at 0x7f348b757d50>,\n",
       " <finbert.utils.InputExample at 0x7f348b757dd0>,\n",
       " <finbert.utils.InputExample at 0x7f348b757e50>,\n",
       " <finbert.utils.InputExample at 0x7f348b757ed0>,\n",
       " <finbert.utils.InputExample at 0x7f348b757f50>,\n",
       " <finbert.utils.InputExample at 0x7f348b757fd0>,\n",
       " <finbert.utils.InputExample at 0x7f348b758090>,\n",
       " <finbert.utils.InputExample at 0x7f348b758110>,\n",
       " <finbert.utils.InputExample at 0x7f348b758190>,\n",
       " <finbert.utils.InputExample at 0x7f348b758210>,\n",
       " <finbert.utils.InputExample at 0x7f348b758290>,\n",
       " <finbert.utils.InputExample at 0x7f348b758310>,\n",
       " <finbert.utils.InputExample at 0x7f348b758390>,\n",
       " <finbert.utils.InputExample at 0x7f348b758410>,\n",
       " <finbert.utils.InputExample at 0x7f348b758490>,\n",
       " <finbert.utils.InputExample at 0x7f348b758510>,\n",
       " <finbert.utils.InputExample at 0x7f348b758590>,\n",
       " <finbert.utils.InputExample at 0x7f348b758610>,\n",
       " <finbert.utils.InputExample at 0x7f348b758690>,\n",
       " <finbert.utils.InputExample at 0x7f348b758710>,\n",
       " <finbert.utils.InputExample at 0x7f348b758790>,\n",
       " <finbert.utils.InputExample at 0x7f348b758810>,\n",
       " <finbert.utils.InputExample at 0x7f348b758890>,\n",
       " <finbert.utils.InputExample at 0x7f348b758910>,\n",
       " <finbert.utils.InputExample at 0x7f348b758990>,\n",
       " <finbert.utils.InputExample at 0x7f348b758a10>,\n",
       " <finbert.utils.InputExample at 0x7f348b758a90>,\n",
       " <finbert.utils.InputExample at 0x7f348b758b10>,\n",
       " <finbert.utils.InputExample at 0x7f348b758b90>,\n",
       " <finbert.utils.InputExample at 0x7f348b758c10>,\n",
       " <finbert.utils.InputExample at 0x7f348b758c90>,\n",
       " <finbert.utils.InputExample at 0x7f348b758d10>,\n",
       " <finbert.utils.InputExample at 0x7f348b758d90>,\n",
       " <finbert.utils.InputExample at 0x7f348b758e10>,\n",
       " <finbert.utils.InputExample at 0x7f348b758e90>,\n",
       " <finbert.utils.InputExample at 0x7f348b758f10>,\n",
       " <finbert.utils.InputExample at 0x7f348b758f90>,\n",
       " <finbert.utils.InputExample at 0x7f348b75b050>,\n",
       " <finbert.utils.InputExample at 0x7f348b75b0d0>,\n",
       " <finbert.utils.InputExample at 0x7f348b75b150>,\n",
       " <finbert.utils.InputExample at 0x7f348b75b1d0>,\n",
       " <finbert.utils.InputExample at 0x7f348b75b250>,\n",
       " <finbert.utils.InputExample at 0x7f348b75b2d0>,\n",
       " <finbert.utils.InputExample at 0x7f348b75b350>,\n",
       " <finbert.utils.InputExample at 0x7f348b75b3d0>,\n",
       " <finbert.utils.InputExample at 0x7f348b75b450>,\n",
       " <finbert.utils.InputExample at 0x7f348b75b4d0>,\n",
       " <finbert.utils.InputExample at 0x7f348b75b550>,\n",
       " <finbert.utils.InputExample at 0x7f348b75b5d0>,\n",
       " <finbert.utils.InputExample at 0x7f348b75b650>,\n",
       " <finbert.utils.InputExample at 0x7f348b75b6d0>,\n",
       " <finbert.utils.InputExample at 0x7f348b75b750>,\n",
       " <finbert.utils.InputExample at 0x7f348b75b7d0>,\n",
       " <finbert.utils.InputExample at 0x7f348b75b850>,\n",
       " <finbert.utils.InputExample at 0x7f348b75b8d0>,\n",
       " <finbert.utils.InputExample at 0x7f348b75b950>,\n",
       " <finbert.utils.InputExample at 0x7f348b75b9d0>,\n",
       " <finbert.utils.InputExample at 0x7f348b75ba50>,\n",
       " <finbert.utils.InputExample at 0x7f348b75bad0>,\n",
       " <finbert.utils.InputExample at 0x7f348b75bb50>,\n",
       " <finbert.utils.InputExample at 0x7f348b75bbd0>,\n",
       " <finbert.utils.InputExample at 0x7f348b75bc50>,\n",
       " <finbert.utils.InputExample at 0x7f348b75bcd0>,\n",
       " <finbert.utils.InputExample at 0x7f348b75bd50>,\n",
       " <finbert.utils.InputExample at 0x7f348b75bdd0>,\n",
       " <finbert.utils.InputExample at 0x7f348b75be50>,\n",
       " <finbert.utils.InputExample at 0x7f348b75bed0>,\n",
       " <finbert.utils.InputExample at 0x7f348b75bf50>,\n",
       " <finbert.utils.InputExample at 0x7f348b75bfd0>,\n",
       " <finbert.utils.InputExample at 0x7f348b75d090>,\n",
       " <finbert.utils.InputExample at 0x7f348b75d110>,\n",
       " <finbert.utils.InputExample at 0x7f348b75d190>,\n",
       " <finbert.utils.InputExample at 0x7f348b75d210>,\n",
       " <finbert.utils.InputExample at 0x7f348b75d290>,\n",
       " <finbert.utils.InputExample at 0x7f348b75d310>,\n",
       " <finbert.utils.InputExample at 0x7f348b75d390>,\n",
       " <finbert.utils.InputExample at 0x7f348b75d410>,\n",
       " <finbert.utils.InputExample at 0x7f348b75d490>,\n",
       " <finbert.utils.InputExample at 0x7f348b75d510>,\n",
       " <finbert.utils.InputExample at 0x7f348b75d590>,\n",
       " <finbert.utils.InputExample at 0x7f348b75d610>,\n",
       " <finbert.utils.InputExample at 0x7f348b75d690>,\n",
       " <finbert.utils.InputExample at 0x7f348b75d710>,\n",
       " <finbert.utils.InputExample at 0x7f348b75d790>,\n",
       " <finbert.utils.InputExample at 0x7f348b75d810>,\n",
       " <finbert.utils.InputExample at 0x7f348b75d890>,\n",
       " <finbert.utils.InputExample at 0x7f348b75d910>,\n",
       " <finbert.utils.InputExample at 0x7f348b75d990>,\n",
       " <finbert.utils.InputExample at 0x7f348b75da10>,\n",
       " <finbert.utils.InputExample at 0x7f348b75da90>,\n",
       " <finbert.utils.InputExample at 0x7f348b75db10>,\n",
       " <finbert.utils.InputExample at 0x7f348b75db90>,\n",
       " <finbert.utils.InputExample at 0x7f348b75dc10>,\n",
       " <finbert.utils.InputExample at 0x7f348b75dc90>,\n",
       " <finbert.utils.InputExample at 0x7f348b75dd10>,\n",
       " <finbert.utils.InputExample at 0x7f348b75dd90>,\n",
       " <finbert.utils.InputExample at 0x7f348b75de10>,\n",
       " <finbert.utils.InputExample at 0x7f348b75de90>,\n",
       " <finbert.utils.InputExample at 0x7f348b75df10>,\n",
       " <finbert.utils.InputExample at 0x7f348b75df90>,\n",
       " <finbert.utils.InputExample at 0x7f348b75f050>,\n",
       " <finbert.utils.InputExample at 0x7f348b75f0d0>,\n",
       " <finbert.utils.InputExample at 0x7f348b75f150>,\n",
       " <finbert.utils.InputExample at 0x7f348b75f1d0>,\n",
       " <finbert.utils.InputExample at 0x7f348b75f250>,\n",
       " <finbert.utils.InputExample at 0x7f348b75f2d0>,\n",
       " <finbert.utils.InputExample at 0x7f348b75f350>,\n",
       " <finbert.utils.InputExample at 0x7f348b75f3d0>,\n",
       " <finbert.utils.InputExample at 0x7f348b75f450>,\n",
       " <finbert.utils.InputExample at 0x7f348b75f4d0>,\n",
       " <finbert.utils.InputExample at 0x7f348b75f550>,\n",
       " <finbert.utils.InputExample at 0x7f348b75f5d0>,\n",
       " <finbert.utils.InputExample at 0x7f348b75f650>,\n",
       " <finbert.utils.InputExample at 0x7f348b75f6d0>,\n",
       " <finbert.utils.InputExample at 0x7f348b75f750>,\n",
       " <finbert.utils.InputExample at 0x7f348b75f7d0>,\n",
       " <finbert.utils.InputExample at 0x7f348b75f850>,\n",
       " <finbert.utils.InputExample at 0x7f348b75f8d0>,\n",
       " <finbert.utils.InputExample at 0x7f348b75f950>,\n",
       " <finbert.utils.InputExample at 0x7f348b75f9d0>,\n",
       " <finbert.utils.InputExample at 0x7f348b75fa50>,\n",
       " <finbert.utils.InputExample at 0x7f348b75fad0>,\n",
       " <finbert.utils.InputExample at 0x7f348b75fb50>,\n",
       " <finbert.utils.InputExample at 0x7f348b75fbd0>,\n",
       " <finbert.utils.InputExample at 0x7f348b75fc50>,\n",
       " <finbert.utils.InputExample at 0x7f348b75fcd0>,\n",
       " <finbert.utils.InputExample at 0x7f348b75fd50>,\n",
       " <finbert.utils.InputExample at 0x7f348b75fdd0>,\n",
       " <finbert.utils.InputExample at 0x7f348b75fe50>,\n",
       " <finbert.utils.InputExample at 0x7f348b75fed0>,\n",
       " <finbert.utils.InputExample at 0x7f348b75ff50>,\n",
       " <finbert.utils.InputExample at 0x7f348b75ffd0>,\n",
       " <finbert.utils.InputExample at 0x7f348b761090>,\n",
       " <finbert.utils.InputExample at 0x7f348b761110>,\n",
       " <finbert.utils.InputExample at 0x7f348b761190>,\n",
       " <finbert.utils.InputExample at 0x7f348b761210>,\n",
       " <finbert.utils.InputExample at 0x7f348b761290>,\n",
       " <finbert.utils.InputExample at 0x7f348b761310>,\n",
       " <finbert.utils.InputExample at 0x7f348b761390>,\n",
       " <finbert.utils.InputExample at 0x7f348b761410>,\n",
       " <finbert.utils.InputExample at 0x7f348b761490>,\n",
       " <finbert.utils.InputExample at 0x7f348b761510>,\n",
       " <finbert.utils.InputExample at 0x7f348b761590>,\n",
       " <finbert.utils.InputExample at 0x7f348b761610>,\n",
       " <finbert.utils.InputExample at 0x7f348b761690>,\n",
       " <finbert.utils.InputExample at 0x7f348b761710>,\n",
       " <finbert.utils.InputExample at 0x7f348b761790>,\n",
       " <finbert.utils.InputExample at 0x7f348b761810>,\n",
       " <finbert.utils.InputExample at 0x7f348b761890>,\n",
       " <finbert.utils.InputExample at 0x7f348b761910>,\n",
       " <finbert.utils.InputExample at 0x7f348b761990>,\n",
       " <finbert.utils.InputExample at 0x7f348b761a10>,\n",
       " <finbert.utils.InputExample at 0x7f348b761a90>,\n",
       " <finbert.utils.InputExample at 0x7f348b761b10>,\n",
       " <finbert.utils.InputExample at 0x7f348b761b90>,\n",
       " <finbert.utils.InputExample at 0x7f348b761c10>,\n",
       " <finbert.utils.InputExample at 0x7f348b761c90>,\n",
       " <finbert.utils.InputExample at 0x7f348b761d10>,\n",
       " <finbert.utils.InputExample at 0x7f348b761d90>,\n",
       " <finbert.utils.InputExample at 0x7f348b761e10>,\n",
       " <finbert.utils.InputExample at 0x7f348b761e90>,\n",
       " <finbert.utils.InputExample at 0x7f348b761f10>,\n",
       " <finbert.utils.InputExample at 0x7f348b761f90>,\n",
       " <finbert.utils.InputExample at 0x7f348b763050>,\n",
       " <finbert.utils.InputExample at 0x7f348b7630d0>,\n",
       " <finbert.utils.InputExample at 0x7f348b763150>,\n",
       " <finbert.utils.InputExample at 0x7f348b7631d0>,\n",
       " <finbert.utils.InputExample at 0x7f348b763250>,\n",
       " <finbert.utils.InputExample at 0x7f348b7632d0>,\n",
       " <finbert.utils.InputExample at 0x7f348b763350>,\n",
       " <finbert.utils.InputExample at 0x7f348b7633d0>,\n",
       " <finbert.utils.InputExample at 0x7f348b763450>,\n",
       " <finbert.utils.InputExample at 0x7f348b7634d0>,\n",
       " <finbert.utils.InputExample at 0x7f348b763550>,\n",
       " <finbert.utils.InputExample at 0x7f348b7635d0>,\n",
       " <finbert.utils.InputExample at 0x7f348b763650>,\n",
       " <finbert.utils.InputExample at 0x7f348b7636d0>,\n",
       " <finbert.utils.InputExample at 0x7f348b763750>,\n",
       " <finbert.utils.InputExample at 0x7f348b7637d0>,\n",
       " <finbert.utils.InputExample at 0x7f348b763850>,\n",
       " <finbert.utils.InputExample at 0x7f348b7638d0>,\n",
       " <finbert.utils.InputExample at 0x7f348b763950>,\n",
       " <finbert.utils.InputExample at 0x7f348b7639d0>,\n",
       " <finbert.utils.InputExample at 0x7f348b763a50>,\n",
       " <finbert.utils.InputExample at 0x7f348b763ad0>,\n",
       " <finbert.utils.InputExample at 0x7f348b763b50>,\n",
       " <finbert.utils.InputExample at 0x7f348b763bd0>,\n",
       " <finbert.utils.InputExample at 0x7f348b763c50>,\n",
       " <finbert.utils.InputExample at 0x7f348b763cd0>,\n",
       " <finbert.utils.InputExample at 0x7f348b763d50>,\n",
       " <finbert.utils.InputExample at 0x7f348b763dd0>,\n",
       " <finbert.utils.InputExample at 0x7f348b763e50>,\n",
       " <finbert.utils.InputExample at 0x7f348b763ed0>,\n",
       " <finbert.utils.InputExample at 0x7f348b763f50>,\n",
       " <finbert.utils.InputExample at 0x7f348b763fd0>,\n",
       " <finbert.utils.InputExample at 0x7f348b765090>,\n",
       " <finbert.utils.InputExample at 0x7f348b765110>,\n",
       " <finbert.utils.InputExample at 0x7f348b765190>,\n",
       " <finbert.utils.InputExample at 0x7f348b765210>,\n",
       " <finbert.utils.InputExample at 0x7f348b765290>,\n",
       " <finbert.utils.InputExample at 0x7f348b765310>,\n",
       " <finbert.utils.InputExample at 0x7f348b765390>,\n",
       " <finbert.utils.InputExample at 0x7f348b765410>,\n",
       " <finbert.utils.InputExample at 0x7f348b765490>,\n",
       " <finbert.utils.InputExample at 0x7f348b765510>,\n",
       " <finbert.utils.InputExample at 0x7f348b765590>,\n",
       " <finbert.utils.InputExample at 0x7f348b765610>,\n",
       " <finbert.utils.InputExample at 0x7f348b765690>,\n",
       " <finbert.utils.InputExample at 0x7f348b765710>,\n",
       " <finbert.utils.InputExample at 0x7f348b765790>,\n",
       " <finbert.utils.InputExample at 0x7f348b765810>,\n",
       " <finbert.utils.InputExample at 0x7f348b765890>,\n",
       " <finbert.utils.InputExample at 0x7f348b765910>,\n",
       " <finbert.utils.InputExample at 0x7f348b765990>,\n",
       " <finbert.utils.InputExample at 0x7f348b765a10>,\n",
       " <finbert.utils.InputExample at 0x7f348b765a90>,\n",
       " <finbert.utils.InputExample at 0x7f348b765b10>,\n",
       " <finbert.utils.InputExample at 0x7f348b765b90>,\n",
       " <finbert.utils.InputExample at 0x7f348b765c10>,\n",
       " <finbert.utils.InputExample at 0x7f348b765c90>,\n",
       " <finbert.utils.InputExample at 0x7f348b765d10>,\n",
       " <finbert.utils.InputExample at 0x7f348b765d90>,\n",
       " <finbert.utils.InputExample at 0x7f348b765e10>,\n",
       " <finbert.utils.InputExample at 0x7f348b765e90>,\n",
       " <finbert.utils.InputExample at 0x7f348b765f10>,\n",
       " <finbert.utils.InputExample at 0x7f348b765f90>,\n",
       " <finbert.utils.InputExample at 0x7f348b767050>,\n",
       " <finbert.utils.InputExample at 0x7f348b7670d0>,\n",
       " <finbert.utils.InputExample at 0x7f348b767150>,\n",
       " <finbert.utils.InputExample at 0x7f348b7671d0>,\n",
       " <finbert.utils.InputExample at 0x7f348b767250>,\n",
       " <finbert.utils.InputExample at 0x7f348b7672d0>,\n",
       " <finbert.utils.InputExample at 0x7f348b767350>,\n",
       " <finbert.utils.InputExample at 0x7f348b7673d0>,\n",
       " <finbert.utils.InputExample at 0x7f348b767450>,\n",
       " <finbert.utils.InputExample at 0x7f348b7674d0>,\n",
       " <finbert.utils.InputExample at 0x7f348b767550>,\n",
       " <finbert.utils.InputExample at 0x7f348b7675d0>,\n",
       " <finbert.utils.InputExample at 0x7f348b767650>,\n",
       " <finbert.utils.InputExample at 0x7f348b7676d0>,\n",
       " <finbert.utils.InputExample at 0x7f348b767750>,\n",
       " <finbert.utils.InputExample at 0x7f348b7677d0>,\n",
       " <finbert.utils.InputExample at 0x7f348b767850>,\n",
       " <finbert.utils.InputExample at 0x7f348b7678d0>,\n",
       " <finbert.utils.InputExample at 0x7f348b767950>,\n",
       " <finbert.utils.InputExample at 0x7f348b7679d0>,\n",
       " <finbert.utils.InputExample at 0x7f348b767a50>,\n",
       " <finbert.utils.InputExample at 0x7f348b767ad0>,\n",
       " <finbert.utils.InputExample at 0x7f348b767b50>,\n",
       " <finbert.utils.InputExample at 0x7f348b767bd0>,\n",
       " <finbert.utils.InputExample at 0x7f348b767c50>,\n",
       " <finbert.utils.InputExample at 0x7f348b767cd0>,\n",
       " <finbert.utils.InputExample at 0x7f348b767d50>,\n",
       " <finbert.utils.InputExample at 0x7f348b767dd0>,\n",
       " <finbert.utils.InputExample at 0x7f348b767e50>,\n",
       " <finbert.utils.InputExample at 0x7f348b767ed0>,\n",
       " <finbert.utils.InputExample at 0x7f348b767f50>,\n",
       " <finbert.utils.InputExample at 0x7f348b767fd0>,\n",
       " <finbert.utils.InputExample at 0x7f348b769090>,\n",
       " <finbert.utils.InputExample at 0x7f348b769110>,\n",
       " <finbert.utils.InputExample at 0x7f348b769190>,\n",
       " <finbert.utils.InputExample at 0x7f348b769210>,\n",
       " <finbert.utils.InputExample at 0x7f348b769290>,\n",
       " <finbert.utils.InputExample at 0x7f348b769310>,\n",
       " <finbert.utils.InputExample at 0x7f348b769390>,\n",
       " <finbert.utils.InputExample at 0x7f348b769410>,\n",
       " <finbert.utils.InputExample at 0x7f348b769490>,\n",
       " <finbert.utils.InputExample at 0x7f348b769510>,\n",
       " <finbert.utils.InputExample at 0x7f348b769590>,\n",
       " <finbert.utils.InputExample at 0x7f348b769610>,\n",
       " <finbert.utils.InputExample at 0x7f348b769690>,\n",
       " <finbert.utils.InputExample at 0x7f348b769710>,\n",
       " <finbert.utils.InputExample at 0x7f348b769790>,\n",
       " <finbert.utils.InputExample at 0x7f348b769810>,\n",
       " <finbert.utils.InputExample at 0x7f348b769890>,\n",
       " <finbert.utils.InputExample at 0x7f348b769910>,\n",
       " <finbert.utils.InputExample at 0x7f348b769990>,\n",
       " <finbert.utils.InputExample at 0x7f348b769a10>,\n",
       " <finbert.utils.InputExample at 0x7f348b769a90>,\n",
       " <finbert.utils.InputExample at 0x7f348b769b10>,\n",
       " <finbert.utils.InputExample at 0x7f348b769b90>,\n",
       " <finbert.utils.InputExample at 0x7f348b769c10>,\n",
       " <finbert.utils.InputExample at 0x7f348b769c90>,\n",
       " <finbert.utils.InputExample at 0x7f348b769d10>,\n",
       " <finbert.utils.InputExample at 0x7f348b769d90>,\n",
       " <finbert.utils.InputExample at 0x7f348b769e10>,\n",
       " <finbert.utils.InputExample at 0x7f348b769e90>,\n",
       " <finbert.utils.InputExample at 0x7f348b769f10>,\n",
       " <finbert.utils.InputExample at 0x7f348b769f90>,\n",
       " <finbert.utils.InputExample at 0x7f348b76b050>,\n",
       " <finbert.utils.InputExample at 0x7f348b76b0d0>,\n",
       " <finbert.utils.InputExample at 0x7f348b76b150>,\n",
       " <finbert.utils.InputExample at 0x7f348b76b1d0>,\n",
       " <finbert.utils.InputExample at 0x7f348b76b250>,\n",
       " <finbert.utils.InputExample at 0x7f348b76b2d0>,\n",
       " <finbert.utils.InputExample at 0x7f348b76b350>,\n",
       " <finbert.utils.InputExample at 0x7f348b76b3d0>,\n",
       " <finbert.utils.InputExample at 0x7f348b76b450>,\n",
       " <finbert.utils.InputExample at 0x7f348b76b4d0>,\n",
       " <finbert.utils.InputExample at 0x7f348b76b550>,\n",
       " <finbert.utils.InputExample at 0x7f348b76b5d0>,\n",
       " <finbert.utils.InputExample at 0x7f348b76b650>,\n",
       " <finbert.utils.InputExample at 0x7f348b76b6d0>,\n",
       " <finbert.utils.InputExample at 0x7f348b76b750>,\n",
       " <finbert.utils.InputExample at 0x7f348b76b7d0>,\n",
       " <finbert.utils.InputExample at 0x7f348b76b850>,\n",
       " <finbert.utils.InputExample at 0x7f348b76b8d0>,\n",
       " <finbert.utils.InputExample at 0x7f348b76b950>,\n",
       " <finbert.utils.InputExample at 0x7f348b76b9d0>,\n",
       " <finbert.utils.InputExample at 0x7f348b76ba50>,\n",
       " <finbert.utils.InputExample at 0x7f348b76bad0>,\n",
       " <finbert.utils.InputExample at 0x7f348b76bb50>,\n",
       " <finbert.utils.InputExample at 0x7f348b76bbd0>,\n",
       " <finbert.utils.InputExample at 0x7f348b76bc50>,\n",
       " <finbert.utils.InputExample at 0x7f348b76bcd0>,\n",
       " <finbert.utils.InputExample at 0x7f348b76bd50>,\n",
       " <finbert.utils.InputExample at 0x7f348b76bdd0>,\n",
       " <finbert.utils.InputExample at 0x7f348b76be50>,\n",
       " ...]"
      ]
     },
     "execution_count": 10,
     "metadata": {},
     "output_type": "execute_result"
    }
   ],
   "source": [
    "train_data"
   ]
  },
  {
   "cell_type": "code",
   "execution_count": 9,
   "metadata": {
    "ExecuteTime": {
     "end_time": "2020-03-23T15:55:25.912424Z",
     "start_time": "2020-03-23T15:55:20.065887Z"
    }
   },
   "outputs": [
    {
     "name": "stderr",
     "output_type": "stream",
     "text": [
      "/home/fangye/miniconda3/envs/finbert/lib/python3.7/site-packages/transformers/optimization.py:415: FutureWarning: This implementation of AdamW is deprecated and will be removed in a future version. Use the PyTorch implementation torch.optim.AdamW instead, or set `no_deprecation_warning=True` to disable this warning\n",
      "  FutureWarning,\n"
     ]
    }
   ],
   "source": [
    "model = finbert.create_the_model()"
   ]
  },
  {
   "cell_type": "markdown",
   "metadata": {},
   "source": [
    "### [Optional] Fine-tune only a subset of the model\n",
    "The variable `freeze` determines the last layer (out of 12) to be freezed. You can skip this part if you want to fine-tune the whole model.\n",
    "\n",
    "<span style=\"color:red\">Important: </span>\n",
    "Execute this step if you want a shorter training time in the expense of accuracy."
   ]
  },
  {
   "cell_type": "code",
   "execution_count": 11,
   "metadata": {},
   "outputs": [],
   "source": [
    "# This is for fine-tuning a subset of the model.\n",
    "\n",
    "freeze = 6\n",
    "\n",
    "for param in model.bert.embeddings.parameters():\n",
    "    param.requires_grad = False\n",
    "    \n",
    "for i in range(freeze):\n",
    "    for param in model.bert.encoder.layer[i].parameters():\n",
    "        param.requires_grad = False"
   ]
  },
  {
   "cell_type": "markdown",
   "metadata": {},
   "source": [
    "### Training"
   ]
  },
  {
   "cell_type": "code",
   "execution_count": 12,
   "metadata": {
    "ExecuteTime": {
     "end_time": "2020-03-23T15:58:35.486890Z",
     "start_time": "2020-03-23T15:55:27.293772Z"
    },
    "scrolled": true
   },
   "outputs": [
    {
     "name": "stderr",
     "output_type": "stream",
     "text": [
      "11/27/2023 20:29:43 - INFO - finbert.utils -   *** Example ***\n",
      "11/27/2023 20:29:43 - INFO - finbert.utils -   guid: train-1\n",
      "11/27/2023 20:29:43 - INFO - finbert.utils -   tokens: [CLS] after the reporting period , bio ##tie north american licensing partner so ##max ##on pharmaceuticals announced positive results with na ##lm ##efe ##ne in a pilot phase 2 clinical trial for smoking ce ##ssa ##tion [SEP]\n",
      "11/27/2023 20:29:43 - INFO - finbert.utils -   input_ids: 101 2044 1996 7316 2558 1010 16012 9515 2167 2137 13202 4256 2061 17848 2239 24797 2623 3893 3463 2007 6583 13728 27235 2638 1999 1037 4405 4403 1016 6612 3979 2005 9422 8292 11488 3508 102 0 0 0 0 0 0 0 0 0 0 0\n",
      "11/27/2023 20:29:43 - INFO - finbert.utils -   attention_mask: 1 1 1 1 1 1 1 1 1 1 1 1 1 1 1 1 1 1 1 1 1 1 1 1 1 1 1 1 1 1 1 1 1 1 1 1 1 0 0 0 0 0 0 0 0 0 0 0\n",
      "11/27/2023 20:29:43 - INFO - finbert.utils -   token_type_ids: 0 0 0 0 0 0 0 0 0 0 0 0 0 0 0 0 0 0 0 0 0 0 0 0 0 0 0 0 0 0 0 0 0 0 0 0 0 0 0 0 0 0 0 0 0 0 0 0\n",
      "11/27/2023 20:29:43 - INFO - finbert.utils -   label: positive (id = 0)\n"
     ]
    },
    {
     "name": "stderr",
     "output_type": "stream",
     "text": [
      "11/27/2023 20:29:43 - INFO - finbert.finbert -   ***** Loading data *****\n",
      "11/27/2023 20:29:43 - INFO - finbert.finbert -     Num examples = 3488\n",
      "11/27/2023 20:29:43 - INFO - finbert.finbert -     Batch size = 32\n",
      "11/27/2023 20:29:43 - INFO - finbert.finbert -     Num steps = 48\n",
      "Epoch:   0%|          | 0/4 [00:00<?, ?it/s]"
     ]
    },
    {
     "data": {
      "application/vnd.jupyter.widget-view+json": {
       "model_id": "8cb1d86186c14d7ebb16865e7101b08b",
       "version_major": 2,
       "version_minor": 0
      },
      "text/plain": [
       "Iteration:   0%|          | 0/109 [00:00<?, ?it/s]"
      ]
     },
     "metadata": {},
     "output_type": "display_data"
    },
    {
     "name": "stderr",
     "output_type": "stream",
     "text": [
      "11/27/2023 20:29:47 - INFO - finbert.utils -   *** Example ***\n",
      "11/27/2023 20:29:47 - INFO - finbert.utils -   guid: validation-1\n",
      "11/27/2023 20:29:47 - INFO - finbert.utils -   tokens: [CLS] our in - depth expertise extends to the fields of energy , industry , urban & mobility and water & environment [SEP]\n",
      "11/27/2023 20:29:47 - INFO - finbert.utils -   input_ids: 101 2256 1999 1011 5995 11532 8908 2000 1996 4249 1997 2943 1010 3068 1010 3923 1004 12969 1998 2300 1004 4044 102 0 0 0 0 0 0 0 0 0 0 0 0 0 0 0 0 0 0 0 0 0 0 0 0 0\n",
      "11/27/2023 20:29:47 - INFO - finbert.utils -   attention_mask: 1 1 1 1 1 1 1 1 1 1 1 1 1 1 1 1 1 1 1 1 1 1 1 0 0 0 0 0 0 0 0 0 0 0 0 0 0 0 0 0 0 0 0 0 0 0 0 0\n",
      "11/27/2023 20:29:47 - INFO - finbert.utils -   token_type_ids: 0 0 0 0 0 0 0 0 0 0 0 0 0 0 0 0 0 0 0 0 0 0 0 0 0 0 0 0 0 0 0 0 0 0 0 0 0 0 0 0 0 0 0 0 0 0 0 0\n",
      "11/27/2023 20:29:47 - INFO - finbert.utils -   label: neutral (id = 2)\n",
      "11/27/2023 20:29:47 - INFO - finbert.finbert -   ***** Loading data *****\n",
      "11/27/2023 20:29:47 - INFO - finbert.finbert -     Num examples = 388\n",
      "11/27/2023 20:29:47 - INFO - finbert.finbert -     Batch size = 32\n",
      "11/27/2023 20:29:47 - INFO - finbert.finbert -     Num steps = 48\n"
     ]
    },
    {
     "data": {
      "application/vnd.jupyter.widget-view+json": {
       "model_id": "ba8ee7322f6240758ee149fe2714f782",
       "version_major": 2,
       "version_minor": 0
      },
      "text/plain": [
       "Validating:   0%|          | 0/13 [00:00<?, ?it/s]"
      ]
     },
     "metadata": {},
     "output_type": "display_data"
    },
    {
     "name": "stdout",
     "output_type": "stream",
     "text": [
      "Validation losses: [0.6579663799359248]\n",
      "No best model found\n"
     ]
    },
    {
     "name": "stderr",
     "output_type": "stream",
     "text": [
      "Epoch:  25%|██▌       | 1/4 [00:05<00:15,  5.09s/it]"
     ]
    },
    {
     "data": {
      "application/vnd.jupyter.widget-view+json": {
       "model_id": "8162e0c3ce63482889dd66bfbcdaab8e",
       "version_major": 2,
       "version_minor": 0
      },
      "text/plain": [
       "Iteration:   0%|          | 0/109 [00:00<?, ?it/s]"
      ]
     },
     "metadata": {},
     "output_type": "display_data"
    },
    {
     "name": "stderr",
     "output_type": "stream",
     "text": [
      "11/27/2023 20:29:54 - INFO - finbert.utils -   *** Example ***\n",
      "11/27/2023 20:29:54 - INFO - finbert.utils -   guid: validation-1\n",
      "11/27/2023 20:29:54 - INFO - finbert.utils -   tokens: [CLS] our in - depth expertise extends to the fields of energy , industry , urban & mobility and water & environment [SEP]\n",
      "11/27/2023 20:29:54 - INFO - finbert.utils -   input_ids: 101 2256 1999 1011 5995 11532 8908 2000 1996 4249 1997 2943 1010 3068 1010 3923 1004 12969 1998 2300 1004 4044 102 0 0 0 0 0 0 0 0 0 0 0 0 0 0 0 0 0 0 0 0 0 0 0 0 0\n",
      "11/27/2023 20:29:54 - INFO - finbert.utils -   attention_mask: 1 1 1 1 1 1 1 1 1 1 1 1 1 1 1 1 1 1 1 1 1 1 1 0 0 0 0 0 0 0 0 0 0 0 0 0 0 0 0 0 0 0 0 0 0 0 0 0\n",
      "11/27/2023 20:29:54 - INFO - finbert.utils -   token_type_ids: 0 0 0 0 0 0 0 0 0 0 0 0 0 0 0 0 0 0 0 0 0 0 0 0 0 0 0 0 0 0 0 0 0 0 0 0 0 0 0 0 0 0 0 0 0 0 0 0\n",
      "11/27/2023 20:29:54 - INFO - finbert.utils -   label: neutral (id = 2)\n",
      "11/27/2023 20:29:54 - INFO - finbert.finbert -   ***** Loading data *****\n",
      "11/27/2023 20:29:54 - INFO - finbert.finbert -     Num examples = 388\n",
      "11/27/2023 20:29:54 - INFO - finbert.finbert -     Batch size = 32\n",
      "11/27/2023 20:29:54 - INFO - finbert.finbert -     Num steps = 48\n"
     ]
    },
    {
     "data": {
      "application/vnd.jupyter.widget-view+json": {
       "model_id": "fa15717f84574326bf035edad7056524",
       "version_major": 2,
       "version_minor": 0
      },
      "text/plain": [
       "Validating:   0%|          | 0/13 [00:00<?, ?it/s]"
      ]
     },
     "metadata": {},
     "output_type": "display_data"
    },
    {
     "name": "stdout",
     "output_type": "stream",
     "text": [
      "Validation losses: [0.6579663799359248, 0.3691242474776048]\n"
     ]
    },
    {
     "name": "stderr",
     "output_type": "stream",
     "text": [
      "Epoch:  50%|█████     | 2/4 [00:12<00:12,  6.26s/it]"
     ]
    },
    {
     "data": {
      "application/vnd.jupyter.widget-view+json": {
       "model_id": "50a2221bb0084f1698ccf37859dcf715",
       "version_major": 2,
       "version_minor": 0
      },
      "text/plain": [
       "Iteration:   0%|          | 0/109 [00:00<?, ?it/s]"
      ]
     },
     "metadata": {},
     "output_type": "display_data"
    },
    {
     "name": "stderr",
     "output_type": "stream",
     "text": [
      "11/27/2023 20:30:04 - INFO - finbert.utils -   *** Example ***\n",
      "11/27/2023 20:30:04 - INFO - finbert.utils -   guid: validation-1\n",
      "11/27/2023 20:30:04 - INFO - finbert.utils -   tokens: [CLS] our in - depth expertise extends to the fields of energy , industry , urban & mobility and water & environment [SEP]\n",
      "11/27/2023 20:30:04 - INFO - finbert.utils -   input_ids: 101 2256 1999 1011 5995 11532 8908 2000 1996 4249 1997 2943 1010 3068 1010 3923 1004 12969 1998 2300 1004 4044 102 0 0 0 0 0 0 0 0 0 0 0 0 0 0 0 0 0 0 0 0 0 0 0 0 0\n",
      "11/27/2023 20:30:04 - INFO - finbert.utils -   attention_mask: 1 1 1 1 1 1 1 1 1 1 1 1 1 1 1 1 1 1 1 1 1 1 1 0 0 0 0 0 0 0 0 0 0 0 0 0 0 0 0 0 0 0 0 0 0 0 0 0\n",
      "11/27/2023 20:30:04 - INFO - finbert.utils -   token_type_ids: 0 0 0 0 0 0 0 0 0 0 0 0 0 0 0 0 0 0 0 0 0 0 0 0 0 0 0 0 0 0 0 0 0 0 0 0 0 0 0 0 0 0 0 0 0 0 0 0\n",
      "11/27/2023 20:30:04 - INFO - finbert.utils -   label: neutral (id = 2)\n",
      "11/27/2023 20:30:04 - INFO - finbert.finbert -   ***** Loading data *****\n",
      "11/27/2023 20:30:04 - INFO - finbert.finbert -     Num examples = 388\n",
      "11/27/2023 20:30:04 - INFO - finbert.finbert -     Batch size = 32\n",
      "11/27/2023 20:30:04 - INFO - finbert.finbert -     Num steps = 48\n"
     ]
    },
    {
     "data": {
      "application/vnd.jupyter.widget-view+json": {
       "model_id": "98ae88bd4c7d48958f40997b0c7bb0b5",
       "version_major": 2,
       "version_minor": 0
      },
      "text/plain": [
       "Validating:   0%|          | 0/13 [00:00<?, ?it/s]"
      ]
     },
     "metadata": {},
     "output_type": "display_data"
    },
    {
     "name": "stdout",
     "output_type": "stream",
     "text": [
      "Validation losses: [0.6579663799359248, 0.3691242474776048, 0.3389681291121703]\n"
     ]
    },
    {
     "name": "stderr",
     "output_type": "stream",
     "text": [
      "Epoch:  75%|███████▌  | 3/4 [00:21<00:07,  7.66s/it]"
     ]
    },
    {
     "data": {
      "application/vnd.jupyter.widget-view+json": {
       "model_id": "da99260cccc54371b5f57b6ac5b4808c",
       "version_major": 2,
       "version_minor": 0
      },
      "text/plain": [
       "Iteration:   0%|          | 0/109 [00:00<?, ?it/s]"
      ]
     },
     "metadata": {},
     "output_type": "display_data"
    },
    {
     "name": "stderr",
     "output_type": "stream",
     "text": [
      "11/27/2023 20:30:14 - INFO - finbert.utils -   *** Example ***\n",
      "11/27/2023 20:30:14 - INFO - finbert.utils -   guid: validation-1\n",
      "11/27/2023 20:30:14 - INFO - finbert.utils -   tokens: [CLS] our in - depth expertise extends to the fields of energy , industry , urban & mobility and water & environment [SEP]\n",
      "11/27/2023 20:30:14 - INFO - finbert.utils -   input_ids: 101 2256 1999 1011 5995 11532 8908 2000 1996 4249 1997 2943 1010 3068 1010 3923 1004 12969 1998 2300 1004 4044 102 0 0 0 0 0 0 0 0 0 0 0 0 0 0 0 0 0 0 0 0 0 0 0 0 0\n",
      "11/27/2023 20:30:14 - INFO - finbert.utils -   attention_mask: 1 1 1 1 1 1 1 1 1 1 1 1 1 1 1 1 1 1 1 1 1 1 1 0 0 0 0 0 0 0 0 0 0 0 0 0 0 0 0 0 0 0 0 0 0 0 0 0\n",
      "11/27/2023 20:30:14 - INFO - finbert.utils -   token_type_ids: 0 0 0 0 0 0 0 0 0 0 0 0 0 0 0 0 0 0 0 0 0 0 0 0 0 0 0 0 0 0 0 0 0 0 0 0 0 0 0 0 0 0 0 0 0 0 0 0\n",
      "11/27/2023 20:30:14 - INFO - finbert.utils -   label: neutral (id = 2)\n",
      "11/27/2023 20:30:14 - INFO - finbert.finbert -   ***** Loading data *****\n",
      "11/27/2023 20:30:14 - INFO - finbert.finbert -     Num examples = 388\n",
      "11/27/2023 20:30:14 - INFO - finbert.finbert -     Batch size = 32\n",
      "11/27/2023 20:30:14 - INFO - finbert.finbert -     Num steps = 48\n"
     ]
    },
    {
     "data": {
      "application/vnd.jupyter.widget-view+json": {
       "model_id": "a82b14b07079435798eb9c0703b9f9ec",
       "version_major": 2,
       "version_minor": 0
      },
      "text/plain": [
       "Validating:   0%|          | 0/13 [00:00<?, ?it/s]"
      ]
     },
     "metadata": {},
     "output_type": "display_data"
    },
    {
     "name": "stdout",
     "output_type": "stream",
     "text": [
      "Validation losses: [0.6579663799359248, 0.3691242474776048, 0.3389681291121703, 0.3208344807991615]\n"
     ]
    },
    {
     "name": "stderr",
     "output_type": "stream",
     "text": [
      "Epoch: 100%|██████████| 4/4 [00:31<00:00,  7.94s/it]\n"
     ]
    }
   ],
   "source": [
    "trained_model = finbert.train(train_examples = train_data, model = model)"
   ]
  },
  {
   "cell_type": "markdown",
   "metadata": {},
   "source": [
    "## Test the model\n",
    "\n",
    "`bert.evaluate` outputs the DataFrame, where true labels and logit values for each example is given"
   ]
  },
  {
   "cell_type": "code",
   "execution_count": 13,
   "metadata": {
    "ExecuteTime": {
     "end_time": "2020-03-23T15:58:40.056789Z",
     "start_time": "2020-03-23T15:58:40.023198Z"
    }
   },
   "outputs": [],
   "source": [
    "test_data = finbert.get_data('test')"
   ]
  },
  {
   "cell_type": "code",
   "execution_count": 14,
   "metadata": {
    "ExecuteTime": {
     "end_time": "2020-03-23T15:58:48.248044Z",
     "start_time": "2020-03-23T15:58:41.699009Z"
    },
    "scrolled": true
   },
   "outputs": [
    {
     "name": "stderr",
     "output_type": "stream",
     "text": [
      "11/27/2023 20:30:41 - INFO - finbert.utils -   *** Example ***\n",
      "11/27/2023 20:30:41 - INFO - finbert.utils -   guid: test-1\n",
      "11/27/2023 20:30:41 - INFO - finbert.utils -   tokens: [CLS] the bristol port company has sealed a one million pound contract with cooper specialised handling to supply it with four 45 - ton ##ne , custom ##ised reach stack ##ers from ko ##ne ##cr ##ane ##s [SEP]\n",
      "11/27/2023 20:30:41 - INFO - finbert.utils -   input_ids: 101 1996 7067 3417 2194 2038 10203 1037 2028 2454 9044 3206 2007 6201 17009 8304 2000 4425 2009 2007 2176 3429 1011 10228 2638 1010 7661 5084 3362 9991 2545 2013 12849 2638 26775 7231 2015 102 0 0 0 0 0 0 0 0 0 0\n",
      "11/27/2023 20:30:41 - INFO - finbert.utils -   attention_mask: 1 1 1 1 1 1 1 1 1 1 1 1 1 1 1 1 1 1 1 1 1 1 1 1 1 1 1 1 1 1 1 1 1 1 1 1 1 1 0 0 0 0 0 0 0 0 0 0\n",
      "11/27/2023 20:30:41 - INFO - finbert.utils -   token_type_ids: 0 0 0 0 0 0 0 0 0 0 0 0 0 0 0 0 0 0 0 0 0 0 0 0 0 0 0 0 0 0 0 0 0 0 0 0 0 0 0 0 0 0 0 0 0 0 0 0\n",
      "11/27/2023 20:30:41 - INFO - finbert.utils -   label: positive (id = 0)\n"
     ]
    },
    {
     "name": "stderr",
     "output_type": "stream",
     "text": [
      "11/27/2023 20:30:41 - INFO - finbert.finbert -   ***** Loading data *****\n",
      "11/27/2023 20:30:41 - INFO - finbert.finbert -     Num examples = 970\n",
      "11/27/2023 20:30:41 - INFO - finbert.finbert -     Batch size = 32\n",
      "11/27/2023 20:30:41 - INFO - finbert.finbert -     Num steps = 120\n",
      "11/27/2023 20:30:41 - INFO - finbert.finbert -   ***** Running evaluation ***** \n",
      "11/27/2023 20:30:41 - INFO - finbert.finbert -     Num examples = 970\n",
      "11/27/2023 20:30:41 - INFO - finbert.finbert -     Batch size = 32\n"
     ]
    },
    {
     "data": {
      "application/vnd.jupyter.widget-view+json": {
       "model_id": "4bbc9348db7c43e68ba235f4429fb7cc",
       "version_major": 2,
       "version_minor": 0
      },
      "text/plain": [
       "Testing:   0%|          | 0/31 [00:00<?, ?it/s]"
      ]
     },
     "metadata": {},
     "output_type": "display_data"
    }
   ],
   "source": [
    "results = finbert.evaluate(examples=test_data, model=trained_model)"
   ]
  },
  {
   "cell_type": "markdown",
   "metadata": {},
   "source": [
    "### Prepare the classification report"
   ]
  },
  {
   "cell_type": "code",
   "execution_count": 15,
   "metadata": {
    "ExecuteTime": {
     "end_time": "2020-03-23T15:58:51.361079Z",
     "start_time": "2020-03-23T15:58:51.339548Z"
    }
   },
   "outputs": [],
   "source": [
    "def report(df, cols=['label','prediction','logits']):\n",
    "    #print('Validation loss:{0:.2f}'.format(metrics['best_validation_loss']))\n",
    "    cs = CrossEntropyLoss(weight=finbert.class_weights)\n",
    "    loss = cs(torch.tensor(list(df[cols[2]])),torch.tensor(list(df[cols[0]])))\n",
    "    print(\"Loss:{0:.2f}\".format(loss))\n",
    "    print(\"Accuracy:{0:.2f}\".format((df[cols[0]] == df[cols[1]]).sum() / df.shape[0]) )\n",
    "    print(\"\\nClassification Report:\")\n",
    "    print(classification_report(df[cols[0]], df[cols[1]]))"
   ]
  },
  {
   "cell_type": "code",
   "execution_count": 16,
   "metadata": {
    "ExecuteTime": {
     "end_time": "2020-03-23T15:58:53.190447Z",
     "start_time": "2020-03-23T15:58:53.166729Z"
    }
   },
   "outputs": [],
   "source": [
    "results['prediction'] = results.predictions.apply(lambda x: np.argmax(x,axis=0))"
   ]
  },
  {
   "cell_type": "code",
   "execution_count": 17,
   "metadata": {
    "ExecuteTime": {
     "end_time": "2020-03-23T15:58:54.436270Z",
     "start_time": "2020-03-23T15:58:54.399174Z"
    },
    "scrolled": true
   },
   "outputs": [
    {
     "name": "stdout",
     "output_type": "stream",
     "text": [
      "Loss:0.40\n",
      "Accuracy:0.83\n",
      "\n",
      "Classification Report:\n",
      "              precision    recall  f1-score   support\n",
      "\n",
      "           0       0.76      0.81      0.78       267\n",
      "           1       0.75      0.91      0.82       128\n",
      "           2       0.90      0.82      0.86       575\n",
      "\n",
      "    accuracy                           0.83       970\n",
      "   macro avg       0.80      0.85      0.82       970\n",
      "weighted avg       0.84      0.83      0.83       970\n",
      "\n"
     ]
    },
    {
     "name": "stderr",
     "output_type": "stream",
     "text": [
      "/home/fangye/miniconda3/envs/finbert/lib/python3.7/site-packages/ipykernel_launcher.py:4: UserWarning: Creating a tensor from a list of numpy.ndarrays is extremely slow. Please consider converting the list to a single numpy.ndarray with numpy.array() before converting to a tensor. (Triggered internally at  ../torch/csrc/utils/tensor_new.cpp:201.)\n",
      "  after removing the cwd from sys.path.\n"
     ]
    }
   ],
   "source": [
    "report(results,cols=['labels','prediction','predictions'])"
   ]
  },
  {
   "cell_type": "markdown",
   "metadata": {},
   "source": [
    "### Get predictions"
   ]
  },
  {
   "cell_type": "markdown",
   "metadata": {},
   "source": [
    "With the `predict` function, given a piece of text, we split it into a list of sentences and then predict sentiment for each sentence. The output is written into a dataframe. Predictions are represented in three different columns: \n",
    "\n",
    "1) `logit`: probabilities for each class\n",
    "\n",
    "2) `prediction`: predicted label\n",
    "\n",
    "3) `sentiment_score`: sentiment score calculated as: probability of positive - probability of negative\n",
    "\n",
    "Below we analyze a paragraph taken out of [this](https://www.economist.com/finance-and-economics/2019/01/03/a-profit-warning-from-apple-jolts-markets) article from The Economist. For comparison purposes, we also put the sentiments predicted with TextBlob.\n",
    "> Later that day Apple said it was revising down its earnings expectations in the fourth quarter of 2018, largely because of lower sales and signs of economic weakness in China. The news rapidly infected financial markets. Apple’s share price fell by around 7% in after-hours trading and the decline was extended to more than 10% when the market opened. The dollar fell by 3.7% against the yen in a matter of minutes after the announcement, before rapidly recovering some ground. Asian stockmarkets closed down on January 3rd and European ones opened lower. Yields on government bonds fell as investors fled to the traditional haven in a market storm."
   ]
  },
  {
   "cell_type": "code",
   "execution_count": 18,
   "metadata": {
    "ExecuteTime": {
     "end_time": "2020-03-23T15:59:03.875213Z",
     "start_time": "2020-03-23T15:59:03.857612Z"
    }
   },
   "outputs": [],
   "source": [
    "text = \"Later that day Apple said it was revising down its earnings expectations in \\\n",
    "the fourth quarter of 2018, largely because of lower sales and signs of economic weakness in China. \\\n",
    "The news rapidly infected financial markets. Apple’s share price fell by around 7% in after-hours \\\n",
    "trading and the decline was extended to more than 10% when the market opened. The dollar fell \\\n",
    "by 3.7% against the yen in a matter of minutes after the announcement, before rapidly recovering \\\n",
    "some ground. Asian stockmarkets closed down on January 3rd and European ones opened lower. \\\n",
    "Yields on government bonds fell as investors fled to the traditional haven in a market storm.\""
   ]
  },
  {
   "cell_type": "code",
   "execution_count": 19,
   "metadata": {
    "ExecuteTime": {
     "end_time": "2020-03-23T15:59:16.246963Z",
     "start_time": "2020-03-23T15:59:13.285393Z"
    },
    "scrolled": true
   },
   "outputs": [],
   "source": [
    "cl_path = project_dir/'models'/'classifier_model'/'finbert-sentiment'\n",
    "model = AutoModelForSequenceClassification.from_pretrained(cl_path, cache_dir=None, num_labels=3)"
   ]
  },
  {
   "cell_type": "code",
   "execution_count": 21,
   "metadata": {},
   "outputs": [],
   "source": [
    "import nltk"
   ]
  },
  {
   "cell_type": "code",
   "execution_count": 20,
   "metadata": {},
   "outputs": [
    {
     "ename": "KeyboardInterrupt",
     "evalue": "",
     "output_type": "error",
     "traceback": [
      "\u001b[0;31m---------------------------------------------------------------------------\u001b[0m",
      "\u001b[0;31mKeyboardInterrupt\u001b[0m                         Traceback (most recent call last)",
      "\u001b[0;32m/tmp/ipykernel_3603108/880124482.py\u001b[0m in \u001b[0;36m<module>\u001b[0;34m\u001b[0m\n\u001b[1;32m      1\u001b[0m \u001b[0;32mimport\u001b[0m \u001b[0mnltk\u001b[0m\u001b[0;34m\u001b[0m\u001b[0;34m\u001b[0m\u001b[0m\n\u001b[0;32m----> 2\u001b[0;31m \u001b[0mnltk\u001b[0m\u001b[0;34m.\u001b[0m\u001b[0mdownload\u001b[0m\u001b[0;34m(\u001b[0m\u001b[0;34m'punkt'\u001b[0m\u001b[0;34m)\u001b[0m\u001b[0;34m\u001b[0m\u001b[0;34m\u001b[0m\u001b[0m\n\u001b[0m",
      "\u001b[0;32m~/miniconda3/envs/finbert/lib/python3.7/site-packages/nltk/downloader.py\u001b[0m in \u001b[0;36mdownload\u001b[0;34m(self, info_or_id, download_dir, quiet, force, prefix, halt_on_error, raise_on_error, print_error_to)\u001b[0m\n\u001b[1;32m    775\u001b[0m                 )\n\u001b[1;32m    776\u001b[0m \u001b[0;34m\u001b[0m\u001b[0m\n\u001b[0;32m--> 777\u001b[0;31m             \u001b[0;32mfor\u001b[0m \u001b[0mmsg\u001b[0m \u001b[0;32min\u001b[0m \u001b[0mself\u001b[0m\u001b[0;34m.\u001b[0m\u001b[0mincr_download\u001b[0m\u001b[0;34m(\u001b[0m\u001b[0minfo_or_id\u001b[0m\u001b[0;34m,\u001b[0m \u001b[0mdownload_dir\u001b[0m\u001b[0;34m,\u001b[0m \u001b[0mforce\u001b[0m\u001b[0;34m)\u001b[0m\u001b[0;34m:\u001b[0m\u001b[0;34m\u001b[0m\u001b[0;34m\u001b[0m\u001b[0m\n\u001b[0m\u001b[1;32m    778\u001b[0m                 \u001b[0;31m# Error messages\u001b[0m\u001b[0;34m\u001b[0m\u001b[0;34m\u001b[0m\u001b[0;34m\u001b[0m\u001b[0m\n\u001b[1;32m    779\u001b[0m                 \u001b[0;32mif\u001b[0m \u001b[0misinstance\u001b[0m\u001b[0;34m(\u001b[0m\u001b[0mmsg\u001b[0m\u001b[0;34m,\u001b[0m \u001b[0mErrorMessage\u001b[0m\u001b[0;34m)\u001b[0m\u001b[0;34m:\u001b[0m\u001b[0;34m\u001b[0m\u001b[0;34m\u001b[0m\u001b[0m\n",
      "\u001b[0;32m~/miniconda3/envs/finbert/lib/python3.7/site-packages/nltk/downloader.py\u001b[0m in \u001b[0;36mincr_download\u001b[0;34m(self, info_or_id, download_dir, force)\u001b[0m\n\u001b[1;32m    627\u001b[0m         \u001b[0;31m# Look up the requested collection or package.\u001b[0m\u001b[0;34m\u001b[0m\u001b[0;34m\u001b[0m\u001b[0;34m\u001b[0m\u001b[0m\n\u001b[1;32m    628\u001b[0m         \u001b[0;32mtry\u001b[0m\u001b[0;34m:\u001b[0m\u001b[0;34m\u001b[0m\u001b[0;34m\u001b[0m\u001b[0m\n\u001b[0;32m--> 629\u001b[0;31m             \u001b[0minfo\u001b[0m \u001b[0;34m=\u001b[0m \u001b[0mself\u001b[0m\u001b[0;34m.\u001b[0m\u001b[0m_info_or_id\u001b[0m\u001b[0;34m(\u001b[0m\u001b[0minfo_or_id\u001b[0m\u001b[0;34m)\u001b[0m\u001b[0;34m\u001b[0m\u001b[0;34m\u001b[0m\u001b[0m\n\u001b[0m\u001b[1;32m    630\u001b[0m         \u001b[0;32mexcept\u001b[0m \u001b[0;34m(\u001b[0m\u001b[0mOSError\u001b[0m\u001b[0;34m,\u001b[0m \u001b[0mValueError\u001b[0m\u001b[0;34m)\u001b[0m \u001b[0;32mas\u001b[0m \u001b[0me\u001b[0m\u001b[0;34m:\u001b[0m\u001b[0;34m\u001b[0m\u001b[0;34m\u001b[0m\u001b[0m\n\u001b[1;32m    631\u001b[0m             \u001b[0;32myield\u001b[0m \u001b[0mErrorMessage\u001b[0m\u001b[0;34m(\u001b[0m\u001b[0;32mNone\u001b[0m\u001b[0;34m,\u001b[0m \u001b[0;34mf\"Error loading {info_or_id}: {e}\"\u001b[0m\u001b[0;34m)\u001b[0m\u001b[0;34m\u001b[0m\u001b[0;34m\u001b[0m\u001b[0m\n",
      "\u001b[0;32m~/miniconda3/envs/finbert/lib/python3.7/site-packages/nltk/downloader.py\u001b[0m in \u001b[0;36m_info_or_id\u001b[0;34m(self, info_or_id)\u001b[0m\n\u001b[1;32m    601\u001b[0m     \u001b[0;32mdef\u001b[0m \u001b[0m_info_or_id\u001b[0m\u001b[0;34m(\u001b[0m\u001b[0mself\u001b[0m\u001b[0;34m,\u001b[0m \u001b[0minfo_or_id\u001b[0m\u001b[0;34m)\u001b[0m\u001b[0;34m:\u001b[0m\u001b[0;34m\u001b[0m\u001b[0;34m\u001b[0m\u001b[0m\n\u001b[1;32m    602\u001b[0m         \u001b[0;32mif\u001b[0m \u001b[0misinstance\u001b[0m\u001b[0;34m(\u001b[0m\u001b[0minfo_or_id\u001b[0m\u001b[0;34m,\u001b[0m \u001b[0mstr\u001b[0m\u001b[0;34m)\u001b[0m\u001b[0;34m:\u001b[0m\u001b[0;34m\u001b[0m\u001b[0;34m\u001b[0m\u001b[0m\n\u001b[0;32m--> 603\u001b[0;31m             \u001b[0;32mreturn\u001b[0m \u001b[0mself\u001b[0m\u001b[0;34m.\u001b[0m\u001b[0minfo\u001b[0m\u001b[0;34m(\u001b[0m\u001b[0minfo_or_id\u001b[0m\u001b[0;34m)\u001b[0m\u001b[0;34m\u001b[0m\u001b[0;34m\u001b[0m\u001b[0m\n\u001b[0m\u001b[1;32m    604\u001b[0m         \u001b[0;32melse\u001b[0m\u001b[0;34m:\u001b[0m\u001b[0;34m\u001b[0m\u001b[0;34m\u001b[0m\u001b[0m\n\u001b[1;32m    605\u001b[0m             \u001b[0;32mreturn\u001b[0m \u001b[0minfo_or_id\u001b[0m\u001b[0;34m\u001b[0m\u001b[0;34m\u001b[0m\u001b[0m\n",
      "\u001b[0;32m~/miniconda3/envs/finbert/lib/python3.7/site-packages/nltk/downloader.py\u001b[0m in \u001b[0;36minfo\u001b[0;34m(self, id)\u001b[0m\n\u001b[1;32m   1007\u001b[0m         \"\"\"Return the ``Package`` or ``Collection`` record for the\n\u001b[1;32m   1008\u001b[0m         given item.\"\"\"\n\u001b[0;32m-> 1009\u001b[0;31m         \u001b[0mself\u001b[0m\u001b[0;34m.\u001b[0m\u001b[0m_update_index\u001b[0m\u001b[0;34m(\u001b[0m\u001b[0;34m)\u001b[0m\u001b[0;34m\u001b[0m\u001b[0;34m\u001b[0m\u001b[0m\n\u001b[0m\u001b[1;32m   1010\u001b[0m         \u001b[0;32mif\u001b[0m \u001b[0mid\u001b[0m \u001b[0;32min\u001b[0m \u001b[0mself\u001b[0m\u001b[0;34m.\u001b[0m\u001b[0m_packages\u001b[0m\u001b[0;34m:\u001b[0m\u001b[0;34m\u001b[0m\u001b[0;34m\u001b[0m\u001b[0m\n\u001b[1;32m   1011\u001b[0m             \u001b[0;32mreturn\u001b[0m \u001b[0mself\u001b[0m\u001b[0;34m.\u001b[0m\u001b[0m_packages\u001b[0m\u001b[0;34m[\u001b[0m\u001b[0mid\u001b[0m\u001b[0;34m]\u001b[0m\u001b[0;34m\u001b[0m\u001b[0;34m\u001b[0m\u001b[0m\n",
      "\u001b[0;32m~/miniconda3/envs/finbert/lib/python3.7/site-packages/nltk/downloader.py\u001b[0m in \u001b[0;36m_update_index\u001b[0;34m(self, url)\u001b[0m\n\u001b[1;32m    950\u001b[0m         \u001b[0;31m# Download the index file.\u001b[0m\u001b[0;34m\u001b[0m\u001b[0;34m\u001b[0m\u001b[0;34m\u001b[0m\u001b[0m\n\u001b[1;32m    951\u001b[0m         self._index = nltk.internals.ElementWrapper(\n\u001b[0;32m--> 952\u001b[0;31m             \u001b[0mElementTree\u001b[0m\u001b[0;34m.\u001b[0m\u001b[0mparse\u001b[0m\u001b[0;34m(\u001b[0m\u001b[0murlopen\u001b[0m\u001b[0;34m(\u001b[0m\u001b[0mself\u001b[0m\u001b[0;34m.\u001b[0m\u001b[0m_url\u001b[0m\u001b[0;34m)\u001b[0m\u001b[0;34m)\u001b[0m\u001b[0;34m.\u001b[0m\u001b[0mgetroot\u001b[0m\u001b[0;34m(\u001b[0m\u001b[0;34m)\u001b[0m\u001b[0;34m\u001b[0m\u001b[0;34m\u001b[0m\u001b[0m\n\u001b[0m\u001b[1;32m    953\u001b[0m         )\n\u001b[1;32m    954\u001b[0m         \u001b[0mself\u001b[0m\u001b[0;34m.\u001b[0m\u001b[0m_index_timestamp\u001b[0m \u001b[0;34m=\u001b[0m \u001b[0mtime\u001b[0m\u001b[0;34m.\u001b[0m\u001b[0mtime\u001b[0m\u001b[0;34m(\u001b[0m\u001b[0;34m)\u001b[0m\u001b[0;34m\u001b[0m\u001b[0;34m\u001b[0m\u001b[0m\n",
      "\u001b[0;32m~/miniconda3/envs/finbert/lib/python3.7/urllib/request.py\u001b[0m in \u001b[0;36murlopen\u001b[0;34m(url, data, timeout, cafile, capath, cadefault, context)\u001b[0m\n\u001b[1;32m    220\u001b[0m     \u001b[0;32melse\u001b[0m\u001b[0;34m:\u001b[0m\u001b[0;34m\u001b[0m\u001b[0;34m\u001b[0m\u001b[0m\n\u001b[1;32m    221\u001b[0m         \u001b[0mopener\u001b[0m \u001b[0;34m=\u001b[0m \u001b[0m_opener\u001b[0m\u001b[0;34m\u001b[0m\u001b[0;34m\u001b[0m\u001b[0m\n\u001b[0;32m--> 222\u001b[0;31m     \u001b[0;32mreturn\u001b[0m \u001b[0mopener\u001b[0m\u001b[0;34m.\u001b[0m\u001b[0mopen\u001b[0m\u001b[0;34m(\u001b[0m\u001b[0murl\u001b[0m\u001b[0;34m,\u001b[0m \u001b[0mdata\u001b[0m\u001b[0;34m,\u001b[0m \u001b[0mtimeout\u001b[0m\u001b[0;34m)\u001b[0m\u001b[0;34m\u001b[0m\u001b[0;34m\u001b[0m\u001b[0m\n\u001b[0m\u001b[1;32m    223\u001b[0m \u001b[0;34m\u001b[0m\u001b[0m\n\u001b[1;32m    224\u001b[0m \u001b[0;32mdef\u001b[0m \u001b[0minstall_opener\u001b[0m\u001b[0;34m(\u001b[0m\u001b[0mopener\u001b[0m\u001b[0;34m)\u001b[0m\u001b[0;34m:\u001b[0m\u001b[0;34m\u001b[0m\u001b[0;34m\u001b[0m\u001b[0m\n",
      "\u001b[0;32m~/miniconda3/envs/finbert/lib/python3.7/urllib/request.py\u001b[0m in \u001b[0;36mopen\u001b[0;34m(self, fullurl, data, timeout)\u001b[0m\n\u001b[1;32m    523\u001b[0m             \u001b[0mreq\u001b[0m \u001b[0;34m=\u001b[0m \u001b[0mmeth\u001b[0m\u001b[0;34m(\u001b[0m\u001b[0mreq\u001b[0m\u001b[0;34m)\u001b[0m\u001b[0;34m\u001b[0m\u001b[0;34m\u001b[0m\u001b[0m\n\u001b[1;32m    524\u001b[0m \u001b[0;34m\u001b[0m\u001b[0m\n\u001b[0;32m--> 525\u001b[0;31m         \u001b[0mresponse\u001b[0m \u001b[0;34m=\u001b[0m \u001b[0mself\u001b[0m\u001b[0;34m.\u001b[0m\u001b[0m_open\u001b[0m\u001b[0;34m(\u001b[0m\u001b[0mreq\u001b[0m\u001b[0;34m,\u001b[0m \u001b[0mdata\u001b[0m\u001b[0;34m)\u001b[0m\u001b[0;34m\u001b[0m\u001b[0;34m\u001b[0m\u001b[0m\n\u001b[0m\u001b[1;32m    526\u001b[0m \u001b[0;34m\u001b[0m\u001b[0m\n\u001b[1;32m    527\u001b[0m         \u001b[0;31m# post-process response\u001b[0m\u001b[0;34m\u001b[0m\u001b[0;34m\u001b[0m\u001b[0;34m\u001b[0m\u001b[0m\n",
      "\u001b[0;32m~/miniconda3/envs/finbert/lib/python3.7/urllib/request.py\u001b[0m in \u001b[0;36m_open\u001b[0;34m(self, req, data)\u001b[0m\n\u001b[1;32m    541\u001b[0m         \u001b[0mprotocol\u001b[0m \u001b[0;34m=\u001b[0m \u001b[0mreq\u001b[0m\u001b[0;34m.\u001b[0m\u001b[0mtype\u001b[0m\u001b[0;34m\u001b[0m\u001b[0;34m\u001b[0m\u001b[0m\n\u001b[1;32m    542\u001b[0m         result = self._call_chain(self.handle_open, protocol, protocol +\n\u001b[0;32m--> 543\u001b[0;31m                                   '_open', req)\n\u001b[0m\u001b[1;32m    544\u001b[0m         \u001b[0;32mif\u001b[0m \u001b[0mresult\u001b[0m\u001b[0;34m:\u001b[0m\u001b[0;34m\u001b[0m\u001b[0;34m\u001b[0m\u001b[0m\n\u001b[1;32m    545\u001b[0m             \u001b[0;32mreturn\u001b[0m \u001b[0mresult\u001b[0m\u001b[0;34m\u001b[0m\u001b[0;34m\u001b[0m\u001b[0m\n",
      "\u001b[0;32m~/miniconda3/envs/finbert/lib/python3.7/urllib/request.py\u001b[0m in \u001b[0;36m_call_chain\u001b[0;34m(self, chain, kind, meth_name, *args)\u001b[0m\n\u001b[1;32m    501\u001b[0m         \u001b[0;32mfor\u001b[0m \u001b[0mhandler\u001b[0m \u001b[0;32min\u001b[0m \u001b[0mhandlers\u001b[0m\u001b[0;34m:\u001b[0m\u001b[0;34m\u001b[0m\u001b[0;34m\u001b[0m\u001b[0m\n\u001b[1;32m    502\u001b[0m             \u001b[0mfunc\u001b[0m \u001b[0;34m=\u001b[0m \u001b[0mgetattr\u001b[0m\u001b[0;34m(\u001b[0m\u001b[0mhandler\u001b[0m\u001b[0;34m,\u001b[0m \u001b[0mmeth_name\u001b[0m\u001b[0;34m)\u001b[0m\u001b[0;34m\u001b[0m\u001b[0;34m\u001b[0m\u001b[0m\n\u001b[0;32m--> 503\u001b[0;31m             \u001b[0mresult\u001b[0m \u001b[0;34m=\u001b[0m \u001b[0mfunc\u001b[0m\u001b[0;34m(\u001b[0m\u001b[0;34m*\u001b[0m\u001b[0margs\u001b[0m\u001b[0;34m)\u001b[0m\u001b[0;34m\u001b[0m\u001b[0;34m\u001b[0m\u001b[0m\n\u001b[0m\u001b[1;32m    504\u001b[0m             \u001b[0;32mif\u001b[0m \u001b[0mresult\u001b[0m \u001b[0;32mis\u001b[0m \u001b[0;32mnot\u001b[0m \u001b[0;32mNone\u001b[0m\u001b[0;34m:\u001b[0m\u001b[0;34m\u001b[0m\u001b[0;34m\u001b[0m\u001b[0m\n\u001b[1;32m    505\u001b[0m                 \u001b[0;32mreturn\u001b[0m \u001b[0mresult\u001b[0m\u001b[0;34m\u001b[0m\u001b[0;34m\u001b[0m\u001b[0m\n",
      "\u001b[0;32m~/miniconda3/envs/finbert/lib/python3.7/urllib/request.py\u001b[0m in \u001b[0;36mhttps_open\u001b[0;34m(self, req)\u001b[0m\n\u001b[1;32m   1391\u001b[0m         \u001b[0;32mdef\u001b[0m \u001b[0mhttps_open\u001b[0m\u001b[0;34m(\u001b[0m\u001b[0mself\u001b[0m\u001b[0;34m,\u001b[0m \u001b[0mreq\u001b[0m\u001b[0;34m)\u001b[0m\u001b[0;34m:\u001b[0m\u001b[0;34m\u001b[0m\u001b[0;34m\u001b[0m\u001b[0m\n\u001b[1;32m   1392\u001b[0m             return self.do_open(http.client.HTTPSConnection, req,\n\u001b[0;32m-> 1393\u001b[0;31m                 context=self._context, check_hostname=self._check_hostname)\n\u001b[0m\u001b[1;32m   1394\u001b[0m \u001b[0;34m\u001b[0m\u001b[0m\n\u001b[1;32m   1395\u001b[0m         \u001b[0mhttps_request\u001b[0m \u001b[0;34m=\u001b[0m \u001b[0mAbstractHTTPHandler\u001b[0m\u001b[0;34m.\u001b[0m\u001b[0mdo_request_\u001b[0m\u001b[0;34m\u001b[0m\u001b[0;34m\u001b[0m\u001b[0m\n",
      "\u001b[0;32m~/miniconda3/envs/finbert/lib/python3.7/urllib/request.py\u001b[0m in \u001b[0;36mdo_open\u001b[0;34m(self, http_class, req, **http_conn_args)\u001b[0m\n\u001b[1;32m   1348\u001b[0m             \u001b[0;32mtry\u001b[0m\u001b[0;34m:\u001b[0m\u001b[0;34m\u001b[0m\u001b[0;34m\u001b[0m\u001b[0m\n\u001b[1;32m   1349\u001b[0m                 h.request(req.get_method(), req.selector, req.data, headers,\n\u001b[0;32m-> 1350\u001b[0;31m                           encode_chunked=req.has_header('Transfer-encoding'))\n\u001b[0m\u001b[1;32m   1351\u001b[0m             \u001b[0;32mexcept\u001b[0m \u001b[0mOSError\u001b[0m \u001b[0;32mas\u001b[0m \u001b[0merr\u001b[0m\u001b[0;34m:\u001b[0m \u001b[0;31m# timeout error\u001b[0m\u001b[0;34m\u001b[0m\u001b[0;34m\u001b[0m\u001b[0m\n\u001b[1;32m   1352\u001b[0m                 \u001b[0;32mraise\u001b[0m \u001b[0mURLError\u001b[0m\u001b[0;34m(\u001b[0m\u001b[0merr\u001b[0m\u001b[0;34m)\u001b[0m\u001b[0;34m\u001b[0m\u001b[0;34m\u001b[0m\u001b[0m\n",
      "\u001b[0;32m~/miniconda3/envs/finbert/lib/python3.7/http/client.py\u001b[0m in \u001b[0;36mrequest\u001b[0;34m(self, method, url, body, headers, encode_chunked)\u001b[0m\n\u001b[1;32m   1279\u001b[0m                 encode_chunked=False):\n\u001b[1;32m   1280\u001b[0m         \u001b[0;34m\"\"\"Send a complete request to the server.\"\"\"\u001b[0m\u001b[0;34m\u001b[0m\u001b[0;34m\u001b[0m\u001b[0m\n\u001b[0;32m-> 1281\u001b[0;31m         \u001b[0mself\u001b[0m\u001b[0;34m.\u001b[0m\u001b[0m_send_request\u001b[0m\u001b[0;34m(\u001b[0m\u001b[0mmethod\u001b[0m\u001b[0;34m,\u001b[0m \u001b[0murl\u001b[0m\u001b[0;34m,\u001b[0m \u001b[0mbody\u001b[0m\u001b[0;34m,\u001b[0m \u001b[0mheaders\u001b[0m\u001b[0;34m,\u001b[0m \u001b[0mencode_chunked\u001b[0m\u001b[0;34m)\u001b[0m\u001b[0;34m\u001b[0m\u001b[0;34m\u001b[0m\u001b[0m\n\u001b[0m\u001b[1;32m   1282\u001b[0m \u001b[0;34m\u001b[0m\u001b[0m\n\u001b[1;32m   1283\u001b[0m     \u001b[0;32mdef\u001b[0m \u001b[0m_send_request\u001b[0m\u001b[0;34m(\u001b[0m\u001b[0mself\u001b[0m\u001b[0;34m,\u001b[0m \u001b[0mmethod\u001b[0m\u001b[0;34m,\u001b[0m \u001b[0murl\u001b[0m\u001b[0;34m,\u001b[0m \u001b[0mbody\u001b[0m\u001b[0;34m,\u001b[0m \u001b[0mheaders\u001b[0m\u001b[0;34m,\u001b[0m \u001b[0mencode_chunked\u001b[0m\u001b[0;34m)\u001b[0m\u001b[0;34m:\u001b[0m\u001b[0;34m\u001b[0m\u001b[0;34m\u001b[0m\u001b[0m\n",
      "\u001b[0;32m~/miniconda3/envs/finbert/lib/python3.7/http/client.py\u001b[0m in \u001b[0;36m_send_request\u001b[0;34m(self, method, url, body, headers, encode_chunked)\u001b[0m\n\u001b[1;32m   1325\u001b[0m             \u001b[0;31m# default charset of iso-8859-1.\u001b[0m\u001b[0;34m\u001b[0m\u001b[0;34m\u001b[0m\u001b[0;34m\u001b[0m\u001b[0m\n\u001b[1;32m   1326\u001b[0m             \u001b[0mbody\u001b[0m \u001b[0;34m=\u001b[0m \u001b[0m_encode\u001b[0m\u001b[0;34m(\u001b[0m\u001b[0mbody\u001b[0m\u001b[0;34m,\u001b[0m \u001b[0;34m'body'\u001b[0m\u001b[0;34m)\u001b[0m\u001b[0;34m\u001b[0m\u001b[0;34m\u001b[0m\u001b[0m\n\u001b[0;32m-> 1327\u001b[0;31m         \u001b[0mself\u001b[0m\u001b[0;34m.\u001b[0m\u001b[0mendheaders\u001b[0m\u001b[0;34m(\u001b[0m\u001b[0mbody\u001b[0m\u001b[0;34m,\u001b[0m \u001b[0mencode_chunked\u001b[0m\u001b[0;34m=\u001b[0m\u001b[0mencode_chunked\u001b[0m\u001b[0;34m)\u001b[0m\u001b[0;34m\u001b[0m\u001b[0;34m\u001b[0m\u001b[0m\n\u001b[0m\u001b[1;32m   1328\u001b[0m \u001b[0;34m\u001b[0m\u001b[0m\n\u001b[1;32m   1329\u001b[0m     \u001b[0;32mdef\u001b[0m \u001b[0mgetresponse\u001b[0m\u001b[0;34m(\u001b[0m\u001b[0mself\u001b[0m\u001b[0;34m)\u001b[0m\u001b[0;34m:\u001b[0m\u001b[0;34m\u001b[0m\u001b[0;34m\u001b[0m\u001b[0m\n",
      "\u001b[0;32m~/miniconda3/envs/finbert/lib/python3.7/http/client.py\u001b[0m in \u001b[0;36mendheaders\u001b[0;34m(self, message_body, encode_chunked)\u001b[0m\n\u001b[1;32m   1274\u001b[0m         \u001b[0;32melse\u001b[0m\u001b[0;34m:\u001b[0m\u001b[0;34m\u001b[0m\u001b[0;34m\u001b[0m\u001b[0m\n\u001b[1;32m   1275\u001b[0m             \u001b[0;32mraise\u001b[0m \u001b[0mCannotSendHeader\u001b[0m\u001b[0;34m(\u001b[0m\u001b[0;34m)\u001b[0m\u001b[0;34m\u001b[0m\u001b[0;34m\u001b[0m\u001b[0m\n\u001b[0;32m-> 1276\u001b[0;31m         \u001b[0mself\u001b[0m\u001b[0;34m.\u001b[0m\u001b[0m_send_output\u001b[0m\u001b[0;34m(\u001b[0m\u001b[0mmessage_body\u001b[0m\u001b[0;34m,\u001b[0m \u001b[0mencode_chunked\u001b[0m\u001b[0;34m=\u001b[0m\u001b[0mencode_chunked\u001b[0m\u001b[0;34m)\u001b[0m\u001b[0;34m\u001b[0m\u001b[0;34m\u001b[0m\u001b[0m\n\u001b[0m\u001b[1;32m   1277\u001b[0m \u001b[0;34m\u001b[0m\u001b[0m\n\u001b[1;32m   1278\u001b[0m     def request(self, method, url, body=None, headers={}, *,\n",
      "\u001b[0;32m~/miniconda3/envs/finbert/lib/python3.7/http/client.py\u001b[0m in \u001b[0;36m_send_output\u001b[0;34m(self, message_body, encode_chunked)\u001b[0m\n\u001b[1;32m   1034\u001b[0m         \u001b[0mmsg\u001b[0m \u001b[0;34m=\u001b[0m \u001b[0;34mb\"\\r\\n\"\u001b[0m\u001b[0;34m.\u001b[0m\u001b[0mjoin\u001b[0m\u001b[0;34m(\u001b[0m\u001b[0mself\u001b[0m\u001b[0;34m.\u001b[0m\u001b[0m_buffer\u001b[0m\u001b[0;34m)\u001b[0m\u001b[0;34m\u001b[0m\u001b[0;34m\u001b[0m\u001b[0m\n\u001b[1;32m   1035\u001b[0m         \u001b[0;32mdel\u001b[0m \u001b[0mself\u001b[0m\u001b[0;34m.\u001b[0m\u001b[0m_buffer\u001b[0m\u001b[0;34m[\u001b[0m\u001b[0;34m:\u001b[0m\u001b[0;34m]\u001b[0m\u001b[0;34m\u001b[0m\u001b[0;34m\u001b[0m\u001b[0m\n\u001b[0;32m-> 1036\u001b[0;31m         \u001b[0mself\u001b[0m\u001b[0;34m.\u001b[0m\u001b[0msend\u001b[0m\u001b[0;34m(\u001b[0m\u001b[0mmsg\u001b[0m\u001b[0;34m)\u001b[0m\u001b[0;34m\u001b[0m\u001b[0;34m\u001b[0m\u001b[0m\n\u001b[0m\u001b[1;32m   1037\u001b[0m \u001b[0;34m\u001b[0m\u001b[0m\n\u001b[1;32m   1038\u001b[0m         \u001b[0;32mif\u001b[0m \u001b[0mmessage_body\u001b[0m \u001b[0;32mis\u001b[0m \u001b[0;32mnot\u001b[0m \u001b[0;32mNone\u001b[0m\u001b[0;34m:\u001b[0m\u001b[0;34m\u001b[0m\u001b[0;34m\u001b[0m\u001b[0m\n",
      "\u001b[0;32m~/miniconda3/envs/finbert/lib/python3.7/http/client.py\u001b[0m in \u001b[0;36msend\u001b[0;34m(self, data)\u001b[0m\n\u001b[1;32m    974\u001b[0m         \u001b[0;32mif\u001b[0m \u001b[0mself\u001b[0m\u001b[0;34m.\u001b[0m\u001b[0msock\u001b[0m \u001b[0;32mis\u001b[0m \u001b[0;32mNone\u001b[0m\u001b[0;34m:\u001b[0m\u001b[0;34m\u001b[0m\u001b[0;34m\u001b[0m\u001b[0m\n\u001b[1;32m    975\u001b[0m             \u001b[0;32mif\u001b[0m \u001b[0mself\u001b[0m\u001b[0;34m.\u001b[0m\u001b[0mauto_open\u001b[0m\u001b[0;34m:\u001b[0m\u001b[0;34m\u001b[0m\u001b[0;34m\u001b[0m\u001b[0m\n\u001b[0;32m--> 976\u001b[0;31m                 \u001b[0mself\u001b[0m\u001b[0;34m.\u001b[0m\u001b[0mconnect\u001b[0m\u001b[0;34m(\u001b[0m\u001b[0;34m)\u001b[0m\u001b[0;34m\u001b[0m\u001b[0;34m\u001b[0m\u001b[0m\n\u001b[0m\u001b[1;32m    977\u001b[0m             \u001b[0;32melse\u001b[0m\u001b[0;34m:\u001b[0m\u001b[0;34m\u001b[0m\u001b[0;34m\u001b[0m\u001b[0m\n\u001b[1;32m    978\u001b[0m                 \u001b[0;32mraise\u001b[0m \u001b[0mNotConnected\u001b[0m\u001b[0;34m(\u001b[0m\u001b[0;34m)\u001b[0m\u001b[0;34m\u001b[0m\u001b[0;34m\u001b[0m\u001b[0m\n",
      "\u001b[0;32m~/miniconda3/envs/finbert/lib/python3.7/http/client.py\u001b[0m in \u001b[0;36mconnect\u001b[0;34m(self)\u001b[0m\n\u001b[1;32m   1441\u001b[0m             \u001b[0;34m\"Connect to a host on a given (SSL) port.\"\u001b[0m\u001b[0;34m\u001b[0m\u001b[0;34m\u001b[0m\u001b[0m\n\u001b[1;32m   1442\u001b[0m \u001b[0;34m\u001b[0m\u001b[0m\n\u001b[0;32m-> 1443\u001b[0;31m             \u001b[0msuper\u001b[0m\u001b[0;34m(\u001b[0m\u001b[0;34m)\u001b[0m\u001b[0;34m.\u001b[0m\u001b[0mconnect\u001b[0m\u001b[0;34m(\u001b[0m\u001b[0;34m)\u001b[0m\u001b[0;34m\u001b[0m\u001b[0;34m\u001b[0m\u001b[0m\n\u001b[0m\u001b[1;32m   1444\u001b[0m \u001b[0;34m\u001b[0m\u001b[0m\n\u001b[1;32m   1445\u001b[0m             \u001b[0;32mif\u001b[0m \u001b[0mself\u001b[0m\u001b[0;34m.\u001b[0m\u001b[0m_tunnel_host\u001b[0m\u001b[0;34m:\u001b[0m\u001b[0;34m\u001b[0m\u001b[0;34m\u001b[0m\u001b[0m\n",
      "\u001b[0;32m~/miniconda3/envs/finbert/lib/python3.7/http/client.py\u001b[0m in \u001b[0;36mconnect\u001b[0;34m(self)\u001b[0m\n\u001b[1;32m    946\u001b[0m         \u001b[0;34m\"\"\"Connect to the host and port specified in __init__.\"\"\"\u001b[0m\u001b[0;34m\u001b[0m\u001b[0;34m\u001b[0m\u001b[0m\n\u001b[1;32m    947\u001b[0m         self.sock = self._create_connection(\n\u001b[0;32m--> 948\u001b[0;31m             (self.host,self.port), self.timeout, self.source_address)\n\u001b[0m\u001b[1;32m    949\u001b[0m         \u001b[0mself\u001b[0m\u001b[0;34m.\u001b[0m\u001b[0msock\u001b[0m\u001b[0;34m.\u001b[0m\u001b[0msetsockopt\u001b[0m\u001b[0;34m(\u001b[0m\u001b[0msocket\u001b[0m\u001b[0;34m.\u001b[0m\u001b[0mIPPROTO_TCP\u001b[0m\u001b[0;34m,\u001b[0m \u001b[0msocket\u001b[0m\u001b[0;34m.\u001b[0m\u001b[0mTCP_NODELAY\u001b[0m\u001b[0;34m,\u001b[0m \u001b[0;36m1\u001b[0m\u001b[0;34m)\u001b[0m\u001b[0;34m\u001b[0m\u001b[0;34m\u001b[0m\u001b[0m\n\u001b[1;32m    950\u001b[0m \u001b[0;34m\u001b[0m\u001b[0m\n",
      "\u001b[0;32m~/miniconda3/envs/finbert/lib/python3.7/socket.py\u001b[0m in \u001b[0;36mcreate_connection\u001b[0;34m(address, timeout, source_address)\u001b[0m\n\u001b[1;32m    714\u001b[0m             \u001b[0;32mif\u001b[0m \u001b[0msource_address\u001b[0m\u001b[0;34m:\u001b[0m\u001b[0;34m\u001b[0m\u001b[0;34m\u001b[0m\u001b[0m\n\u001b[1;32m    715\u001b[0m                 \u001b[0msock\u001b[0m\u001b[0;34m.\u001b[0m\u001b[0mbind\u001b[0m\u001b[0;34m(\u001b[0m\u001b[0msource_address\u001b[0m\u001b[0;34m)\u001b[0m\u001b[0;34m\u001b[0m\u001b[0;34m\u001b[0m\u001b[0m\n\u001b[0;32m--> 716\u001b[0;31m             \u001b[0msock\u001b[0m\u001b[0;34m.\u001b[0m\u001b[0mconnect\u001b[0m\u001b[0;34m(\u001b[0m\u001b[0msa\u001b[0m\u001b[0;34m)\u001b[0m\u001b[0;34m\u001b[0m\u001b[0;34m\u001b[0m\u001b[0m\n\u001b[0m\u001b[1;32m    717\u001b[0m             \u001b[0;31m# Break explicitly a reference cycle\u001b[0m\u001b[0;34m\u001b[0m\u001b[0;34m\u001b[0m\u001b[0;34m\u001b[0m\u001b[0m\n\u001b[1;32m    718\u001b[0m             \u001b[0merr\u001b[0m \u001b[0;34m=\u001b[0m \u001b[0;32mNone\u001b[0m\u001b[0;34m\u001b[0m\u001b[0;34m\u001b[0m\u001b[0m\n",
      "\u001b[0;31mKeyboardInterrupt\u001b[0m: "
     ]
    }
   ],
   "source": [
    "import nltk\n",
    "nltk.download('punkt')"
   ]
  },
  {
   "cell_type": "code",
   "execution_count": 22,
   "metadata": {
    "ExecuteTime": {
     "end_time": "2020-03-23T15:59:19.531663Z",
     "start_time": "2020-03-23T15:59:17.744984Z"
    },
    "scrolled": true
   },
   "outputs": [
    {
     "name": "stderr",
     "output_type": "stream",
     "text": [
      "11/27/2023 20:36:44 - INFO - root -   Using device: cpu \n",
      "11/27/2023 20:36:44 - INFO - finbert.utils -   *** Example ***\n",
      "11/27/2023 20:36:44 - INFO - finbert.utils -   guid: 0\n",
      "11/27/2023 20:36:44 - INFO - finbert.utils -   tokens: [CLS] later that day apple said it was rev ##ising down its earnings expectations in the fourth quarter of 2018 , largely because of lower sales and signs of economic weakness in china . [SEP]\n",
      "11/27/2023 20:36:44 - INFO - finbert.utils -   input_ids: 101 2101 2008 2154 6207 2056 2009 2001 7065 9355 2091 2049 16565 10908 1999 1996 2959 4284 1997 2760 1010 4321 2138 1997 2896 4341 1998 5751 1997 3171 11251 1999 2859 1012 102 0 0 0 0 0 0 0 0 0 0 0 0 0 0 0 0 0 0 0 0 0 0 0 0 0 0 0 0 0\n",
      "11/27/2023 20:36:44 - INFO - finbert.utils -   attention_mask: 1 1 1 1 1 1 1 1 1 1 1 1 1 1 1 1 1 1 1 1 1 1 1 1 1 1 1 1 1 1 1 1 1 1 1 0 0 0 0 0 0 0 0 0 0 0 0 0 0 0 0 0 0 0 0 0 0 0 0 0 0 0 0 0\n",
      "11/27/2023 20:36:44 - INFO - finbert.utils -   token_type_ids: 0 0 0 0 0 0 0 0 0 0 0 0 0 0 0 0 0 0 0 0 0 0 0 0 0 0 0 0 0 0 0 0 0 0 0 0 0 0 0 0 0 0 0 0 0 0 0 0 0 0 0 0 0 0 0 0 0 0 0 0 0 0 0 0\n",
      "11/27/2023 20:36:44 - INFO - finbert.utils -   label: None (id = 9090)\n"
     ]
    },
    {
     "name": "stderr",
     "output_type": "stream",
     "text": [
      "11/27/2023 20:36:44 - INFO - root -   tensor([[-1.5625,  3.2271, -0.4237],\n",
      "        [-1.7979,  2.2904, -0.1343],\n",
      "        [-1.6648,  3.4648, -0.8444],\n",
      "        [-0.5254,  2.2278, -1.8908],\n",
      "        [-1.6598,  3.3227, -0.9778]])\n",
      "11/27/2023 20:36:44 - INFO - finbert.utils -   *** Example ***\n",
      "11/27/2023 20:36:44 - INFO - finbert.utils -   guid: 0\n",
      "11/27/2023 20:36:44 - INFO - finbert.utils -   tokens: [CLS] yields on government bonds fell as investors fled to the traditional haven in a market storm . [SEP]\n",
      "11/27/2023 20:36:44 - INFO - finbert.utils -   input_ids: 101 16189 2006 2231 9547 3062 2004 9387 6783 2000 1996 3151 4033 1999 1037 3006 4040 1012 102 0 0 0 0 0 0 0 0 0 0 0 0 0 0 0 0 0 0 0 0 0 0 0 0 0 0 0 0 0 0 0 0 0 0 0 0 0 0 0 0 0 0 0 0 0\n",
      "11/27/2023 20:36:44 - INFO - finbert.utils -   attention_mask: 1 1 1 1 1 1 1 1 1 1 1 1 1 1 1 1 1 1 1 0 0 0 0 0 0 0 0 0 0 0 0 0 0 0 0 0 0 0 0 0 0 0 0 0 0 0 0 0 0 0 0 0 0 0 0 0 0 0 0 0 0 0 0 0\n",
      "11/27/2023 20:36:44 - INFO - finbert.utils -   token_type_ids: 0 0 0 0 0 0 0 0 0 0 0 0 0 0 0 0 0 0 0 0 0 0 0 0 0 0 0 0 0 0 0 0 0 0 0 0 0 0 0 0 0 0 0 0 0 0 0 0 0 0 0 0 0 0 0 0 0 0 0 0 0 0 0 0\n",
      "11/27/2023 20:36:44 - INFO - finbert.utils -   label: None (id = 9090)\n",
      "11/27/2023 20:36:44 - INFO - root -   tensor([[-1.6969,  2.8243, -0.7273]])\n"
     ]
    }
   ],
   "source": [
    "result = predict(text,model)"
   ]
  },
  {
   "cell_type": "code",
   "execution_count": 23,
   "metadata": {
    "ExecuteTime": {
     "end_time": "2020-03-23T15:59:20.519047Z",
     "start_time": "2020-03-23T15:59:20.440450Z"
    }
   },
   "outputs": [
    {
     "data": {
      "text/html": [
       "<div>\n",
       "<style scoped>\n",
       "    .dataframe tbody tr th:only-of-type {\n",
       "        vertical-align: middle;\n",
       "    }\n",
       "\n",
       "    .dataframe tbody tr th {\n",
       "        vertical-align: top;\n",
       "    }\n",
       "\n",
       "    .dataframe thead th {\n",
       "        text-align: right;\n",
       "    }\n",
       "</style>\n",
       "<table border=\"1\" class=\"dataframe\">\n",
       "  <thead>\n",
       "    <tr style=\"text-align: right;\">\n",
       "      <th></th>\n",
       "      <th>sentence</th>\n",
       "      <th>logit</th>\n",
       "      <th>prediction</th>\n",
       "      <th>sentiment_score</th>\n",
       "      <th>textblob_prediction</th>\n",
       "    </tr>\n",
       "  </thead>\n",
       "  <tbody>\n",
       "    <tr>\n",
       "      <th>0</th>\n",
       "      <td>Later that day Apple said it was revising down its earnings expectations in the fourth quarter of 2018, largely because of lower sales and signs of economic weakness in China.</td>\n",
       "      <td>[0.008039789, 0.9668518, 0.025108486]</td>\n",
       "      <td>negative</td>\n",
       "      <td>-0.958812</td>\n",
       "      <td>0.051746</td>\n",
       "    </tr>\n",
       "    <tr>\n",
       "      <th>1</th>\n",
       "      <td>The news rapidly infected financial markets.</td>\n",
       "      <td>[0.015169578, 0.9047559, 0.08007458]</td>\n",
       "      <td>negative</td>\n",
       "      <td>-0.889586</td>\n",
       "      <td>0.000000</td>\n",
       "    </tr>\n",
       "    <tr>\n",
       "      <th>2</th>\n",
       "      <td>Apple’s share price fell by around 7% in after-hours trading and the decline was extended to more than 10% when the market opened.</td>\n",
       "      <td>[0.0058064396, 0.98100513, 0.013188502]</td>\n",
       "      <td>negative</td>\n",
       "      <td>-0.975199</td>\n",
       "      <td>0.500000</td>\n",
       "    </tr>\n",
       "    <tr>\n",
       "      <th>3</th>\n",
       "      <td>The dollar fell by 3.7% against the yen in a matter of minutes after the announcement, before rapidly recovering some ground.</td>\n",
       "      <td>[0.05900698, 0.92592937, 0.01506369]</td>\n",
       "      <td>negative</td>\n",
       "      <td>-0.866922</td>\n",
       "      <td>0.000000</td>\n",
       "    </tr>\n",
       "    <tr>\n",
       "      <th>4</th>\n",
       "      <td>Asian stockmarkets closed down on January 3rd and European ones opened lower.</td>\n",
       "      <td>[0.006719755, 0.9799898, 0.013290448]</td>\n",
       "      <td>negative</td>\n",
       "      <td>-0.973270</td>\n",
       "      <td>-0.051111</td>\n",
       "    </tr>\n",
       "    <tr>\n",
       "      <th>5</th>\n",
       "      <td>Yields on government bonds fell as investors fled to the traditional haven in a market storm.</td>\n",
       "      <td>[0.010462252, 0.96195, 0.027587807]</td>\n",
       "      <td>negative</td>\n",
       "      <td>-0.951488</td>\n",
       "      <td>0.000000</td>\n",
       "    </tr>\n",
       "  </tbody>\n",
       "</table>\n",
       "</div>"
      ],
      "text/plain": [
       "                                                                                                                                                                          sentence  \\\n",
       "0  Later that day Apple said it was revising down its earnings expectations in the fourth quarter of 2018, largely because of lower sales and signs of economic weakness in China.   \n",
       "1  The news rapidly infected financial markets.                                                                                                                                      \n",
       "2  Apple’s share price fell by around 7% in after-hours trading and the decline was extended to more than 10% when the market opened.                                                \n",
       "3  The dollar fell by 3.7% against the yen in a matter of minutes after the announcement, before rapidly recovering some ground.                                                     \n",
       "4  Asian stockmarkets closed down on January 3rd and European ones opened lower.                                                                                                     \n",
       "5  Yields on government bonds fell as investors fled to the traditional haven in a market storm.                                                                                     \n",
       "\n",
       "                                     logit prediction  sentiment_score  \\\n",
       "0  [0.008039789, 0.9668518, 0.025108486]    negative  -0.958812          \n",
       "1  [0.015169578, 0.9047559, 0.08007458]     negative  -0.889586          \n",
       "2  [0.0058064396, 0.98100513, 0.013188502]  negative  -0.975199          \n",
       "3  [0.05900698, 0.92592937, 0.01506369]     negative  -0.866922          \n",
       "4  [0.006719755, 0.9799898, 0.013290448]    negative  -0.973270          \n",
       "5  [0.010462252, 0.96195, 0.027587807]      negative  -0.951488          \n",
       "\n",
       "   textblob_prediction  \n",
       "0  0.051746             \n",
       "1  0.000000             \n",
       "2  0.500000             \n",
       "3  0.000000             \n",
       "4 -0.051111             \n",
       "5  0.000000             "
      ]
     },
     "execution_count": 23,
     "metadata": {},
     "output_type": "execute_result"
    }
   ],
   "source": [
    "blob = TextBlob(text)\n",
    "result['textblob_prediction'] = [sentence.sentiment.polarity for sentence in blob.sentences]\n",
    "result"
   ]
  },
  {
   "cell_type": "code",
   "execution_count": 24,
   "metadata": {
    "ExecuteTime": {
     "end_time": "2020-03-23T15:59:38.737969Z",
     "start_time": "2020-03-23T15:59:38.718255Z"
    }
   },
   "outputs": [
    {
     "name": "stdout",
     "output_type": "stream",
     "text": [
      "Average sentiment is -0.94.\n"
     ]
    }
   ],
   "source": [
    "print(f'Average sentiment is %.2f.' % (result.sentiment_score.mean()))"
   ]
  },
  {
   "cell_type": "markdown",
   "metadata": {},
   "source": [
    "Here is another example"
   ]
  },
  {
   "cell_type": "code",
   "execution_count": 25,
   "metadata": {
    "ExecuteTime": {
     "end_time": "2020-03-23T15:59:45.922058Z",
     "start_time": "2020-03-23T15:59:45.904622Z"
    }
   },
   "outputs": [],
   "source": [
    "text2 = \"Shares in the spin-off of South African e-commerce group Naspers surged more than 25% \\\n",
    "in the first minutes of their market debut in Amsterdam on Wednesday. Bob van Dijk, CEO of \\\n",
    "Naspers and Prosus Group poses at Amsterdam's stock exchange, as Prosus begins trading on the \\\n",
    "Euronext stock exchange in Amsterdam, Netherlands, September 11, 2019. REUTERS/Piroschka van de Wouw \\\n",
    "Prosus comprises Naspers’ global empire of consumer internet assets, with the jewel in the crown a \\\n",
    "31% stake in Chinese tech titan Tencent. There is 'way more demand than is even available, so that’s \\\n",
    "good,' said the CEO of Euronext Amsterdam, Maurice van Tilburg. 'It’s going to be an interesting \\\n",
    "hour of trade after opening this morning.' Euronext had given an indicative price of 58.70 euros \\\n",
    "per share for Prosus, implying a market value of 95.3 billion euros ($105 billion). The shares \\\n",
    "jumped to 76 euros on opening and were trading at 75 euros at 0719 GMT.\""
   ]
  },
  {
   "cell_type": "code",
   "execution_count": 26,
   "metadata": {
    "ExecuteTime": {
     "end_time": "2020-03-23T15:59:48.152474Z",
     "start_time": "2020-03-23T15:59:47.028417Z"
    }
   },
   "outputs": [
    {
     "name": "stderr",
     "output_type": "stream",
     "text": [
      "11/27/2023 20:37:30 - INFO - root -   Using device: cpu \n",
      "11/27/2023 20:37:30 - INFO - finbert.utils -   *** Example ***\n",
      "11/27/2023 20:37:30 - INFO - finbert.utils -   guid: 0\n",
      "11/27/2023 20:37:30 - INFO - finbert.utils -   tokens: [CLS] shares in the spin - off of south african e - commerce group nas ##pers surged more than 25 % in the first minutes of their market debut in amsterdam on wednesday . [SEP]\n",
      "11/27/2023 20:37:30 - INFO - finbert.utils -   input_ids: 101 6661 1999 1996 6714 1011 2125 1997 2148 3060 1041 1011 6236 2177 17235 7347 18852 2062 2084 2423 1003 1999 1996 2034 2781 1997 2037 3006 2834 1999 7598 2006 9317 1012 102 0 0 0 0 0 0 0 0 0 0 0 0 0 0 0 0 0 0 0 0 0 0 0 0 0 0 0 0 0\n",
      "11/27/2023 20:37:30 - INFO - finbert.utils -   attention_mask: 1 1 1 1 1 1 1 1 1 1 1 1 1 1 1 1 1 1 1 1 1 1 1 1 1 1 1 1 1 1 1 1 1 1 1 0 0 0 0 0 0 0 0 0 0 0 0 0 0 0 0 0 0 0 0 0 0 0 0 0 0 0 0 0\n",
      "11/27/2023 20:37:30 - INFO - finbert.utils -   token_type_ids: 0 0 0 0 0 0 0 0 0 0 0 0 0 0 0 0 0 0 0 0 0 0 0 0 0 0 0 0 0 0 0 0 0 0 0 0 0 0 0 0 0 0 0 0 0 0 0 0 0 0 0 0 0 0 0 0 0 0 0 0 0 0 0 0\n",
      "11/27/2023 20:37:30 - INFO - finbert.utils -   label: None (id = 9090)\n"
     ]
    },
    {
     "name": "stderr",
     "output_type": "stream",
     "text": [
      "11/27/2023 20:37:30 - INFO - root -   tensor([[ 2.2251, -1.8736, -0.7324],\n",
      "        [-0.8614, -2.0225,  2.2849],\n",
      "        [ 0.2074, -2.9642,  2.1743],\n",
      "        [ 2.3320, -2.3056, -0.3987],\n",
      "        [ 2.0170, -2.2064, -0.4049]])\n",
      "11/27/2023 20:37:30 - INFO - finbert.utils -   *** Example ***\n",
      "11/27/2023 20:37:30 - INFO - finbert.utils -   guid: 0\n",
      "11/27/2023 20:37:30 - INFO - finbert.utils -   tokens: [CLS] euro ##ne ##xt had given an indicative price of 58 . 70 euros per share for pro ##sus , implying a market value of 95 . 3 billion euros ( $ 105 billion ) . [SEP]\n",
      "11/27/2023 20:37:30 - INFO - finbert.utils -   input_ids: 101 9944 2638 18413 2018 2445 2019 24668 3976 1997 5388 1012 3963 19329 2566 3745 2005 4013 13203 1010 20242 1037 3006 3643 1997 5345 1012 1017 4551 19329 1006 1002 8746 4551 1007 1012 102 0 0 0 0 0 0 0 0 0 0 0 0 0 0 0 0 0 0 0 0 0 0 0 0 0 0 0\n",
      "11/27/2023 20:37:30 - INFO - finbert.utils -   attention_mask: 1 1 1 1 1 1 1 1 1 1 1 1 1 1 1 1 1 1 1 1 1 1 1 1 1 1 1 1 1 1 1 1 1 1 1 1 1 0 0 0 0 0 0 0 0 0 0 0 0 0 0 0 0 0 0 0 0 0 0 0 0 0 0 0\n",
      "11/27/2023 20:37:30 - INFO - finbert.utils -   token_type_ids: 0 0 0 0 0 0 0 0 0 0 0 0 0 0 0 0 0 0 0 0 0 0 0 0 0 0 0 0 0 0 0 0 0 0 0 0 0 0 0 0 0 0 0 0 0 0 0 0 0 0 0 0 0 0 0 0 0 0 0 0 0 0 0 0\n",
      "11/27/2023 20:37:30 - INFO - finbert.utils -   label: None (id = 9090)\n",
      "11/27/2023 20:37:30 - INFO - root -   tensor([[-0.2704, -2.5253,  2.2042],\n",
      "        [ 0.6027, -2.2993,  1.5926]])\n"
     ]
    }
   ],
   "source": [
    "result2 = predict(text2,model)\n",
    "blob = TextBlob(text2)\n",
    "result2['textblob_prediction'] = [sentence.sentiment.polarity for sentence in blob.sentences]"
   ]
  },
  {
   "cell_type": "code",
   "execution_count": 27,
   "metadata": {
    "ExecuteTime": {
     "end_time": "2020-03-23T15:59:50.428951Z",
     "start_time": "2020-03-23T15:59:50.402385Z"
    }
   },
   "outputs": [
    {
     "data": {
      "text/html": [
       "<div>\n",
       "<style scoped>\n",
       "    .dataframe tbody tr th:only-of-type {\n",
       "        vertical-align: middle;\n",
       "    }\n",
       "\n",
       "    .dataframe tbody tr th {\n",
       "        vertical-align: top;\n",
       "    }\n",
       "\n",
       "    .dataframe thead th {\n",
       "        text-align: right;\n",
       "    }\n",
       "</style>\n",
       "<table border=\"1\" class=\"dataframe\">\n",
       "  <thead>\n",
       "    <tr style=\"text-align: right;\">\n",
       "      <th></th>\n",
       "      <th>sentence</th>\n",
       "      <th>logit</th>\n",
       "      <th>prediction</th>\n",
       "      <th>sentiment_score</th>\n",
       "      <th>textblob_prediction</th>\n",
       "    </tr>\n",
       "  </thead>\n",
       "  <tbody>\n",
       "    <tr>\n",
       "      <th>0</th>\n",
       "      <td>Shares in the spin-off of South African e-commerce group Naspers surged more than 25% in the first minutes of their market debut in Amsterdam on Wednesday.</td>\n",
       "      <td>[0.9358561, 0.015529718, 0.048614096]</td>\n",
       "      <td>positive</td>\n",
       "      <td>0.920326</td>\n",
       "      <td>0.250000</td>\n",
       "    </tr>\n",
       "    <tr>\n",
       "      <th>1</th>\n",
       "      <td>Bob van Dijk, CEO of Naspers and Prosus Group poses at Amsterdam's stock exchange, as Prosus begins trading on the Euronext stock exchange in Amsterdam, Netherlands, September 11, 2019.</td>\n",
       "      <td>[0.04071293, 0.012748294, 0.94653875]</td>\n",
       "      <td>neutral</td>\n",
       "      <td>0.027965</td>\n",
       "      <td>0.000000</td>\n",
       "    </tr>\n",
       "    <tr>\n",
       "      <th>2</th>\n",
       "      <td>REUTERS/Piroschka van de Wouw Prosus comprises Naspers’ global empire of consumer internet assets, with the jewel in the crown a 31% stake in Chinese tech titan Tencent.</td>\n",
       "      <td>[0.12208747, 0.005120196, 0.87279236]</td>\n",
       "      <td>neutral</td>\n",
       "      <td>0.116967</td>\n",
       "      <td>0.000000</td>\n",
       "    </tr>\n",
       "    <tr>\n",
       "      <th>3</th>\n",
       "      <td>There is 'way more demand than is even available, so that’s good,' said the CEO of Euronext Amsterdam, Maurice van Tilburg.</td>\n",
       "      <td>[0.93035954, 0.009006326, 0.060634147]</td>\n",
       "      <td>positive</td>\n",
       "      <td>0.921353</td>\n",
       "      <td>0.533333</td>\n",
       "    </tr>\n",
       "    <tr>\n",
       "      <th>4</th>\n",
       "      <td>'It’s going to be an interesting hour of trade after opening this morning.'</td>\n",
       "      <td>[0.9062861, 0.013276493, 0.08043731]</td>\n",
       "      <td>positive</td>\n",
       "      <td>0.893010</td>\n",
       "      <td>0.500000</td>\n",
       "    </tr>\n",
       "    <tr>\n",
       "      <th>5</th>\n",
       "      <td>Euronext had given an indicative price of 58.70 euros per share for Prosus, implying a market value of 95.3 billion euros ($105 billion).</td>\n",
       "      <td>[0.07702918, 0.008079121, 0.91489166]</td>\n",
       "      <td>neutral</td>\n",
       "      <td>0.068950</td>\n",
       "      <td>0.000000</td>\n",
       "    </tr>\n",
       "    <tr>\n",
       "      <th>6</th>\n",
       "      <td>The shares jumped to 76 euros on opening and were trading at 75 euros at 0719 GMT.</td>\n",
       "      <td>[0.26696947, 0.014659807, 0.71837074]</td>\n",
       "      <td>neutral</td>\n",
       "      <td>0.252310</td>\n",
       "      <td>0.000000</td>\n",
       "    </tr>\n",
       "  </tbody>\n",
       "</table>\n",
       "</div>"
      ],
      "text/plain": [
       "                                                                                                                                                                                    sentence  \\\n",
       "0  Shares in the spin-off of South African e-commerce group Naspers surged more than 25% in the first minutes of their market debut in Amsterdam on Wednesday.                                 \n",
       "1  Bob van Dijk, CEO of Naspers and Prosus Group poses at Amsterdam's stock exchange, as Prosus begins trading on the Euronext stock exchange in Amsterdam, Netherlands, September 11, 2019.   \n",
       "2  REUTERS/Piroschka van de Wouw Prosus comprises Naspers’ global empire of consumer internet assets, with the jewel in the crown a 31% stake in Chinese tech titan Tencent.                   \n",
       "3  There is 'way more demand than is even available, so that’s good,' said the CEO of Euronext Amsterdam, Maurice van Tilburg.                                                                 \n",
       "4  'It’s going to be an interesting hour of trade after opening this morning.'                                                                                                                 \n",
       "5  Euronext had given an indicative price of 58.70 euros per share for Prosus, implying a market value of 95.3 billion euros ($105 billion).                                                   \n",
       "6  The shares jumped to 76 euros on opening and were trading at 75 euros at 0719 GMT.                                                                                                          \n",
       "\n",
       "                                    logit prediction  sentiment_score  \\\n",
       "0  [0.9358561, 0.015529718, 0.048614096]   positive   0.920326          \n",
       "1  [0.04071293, 0.012748294, 0.94653875]   neutral    0.027965          \n",
       "2  [0.12208747, 0.005120196, 0.87279236]   neutral    0.116967          \n",
       "3  [0.93035954, 0.009006326, 0.060634147]  positive   0.921353          \n",
       "4  [0.9062861, 0.013276493, 0.08043731]    positive   0.893010          \n",
       "5  [0.07702918, 0.008079121, 0.91489166]   neutral    0.068950          \n",
       "6  [0.26696947, 0.014659807, 0.71837074]   neutral    0.252310          \n",
       "\n",
       "   textblob_prediction  \n",
       "0  0.250000             \n",
       "1  0.000000             \n",
       "2  0.000000             \n",
       "3  0.533333             \n",
       "4  0.500000             \n",
       "5  0.000000             \n",
       "6  0.000000             "
      ]
     },
     "execution_count": 27,
     "metadata": {},
     "output_type": "execute_result"
    }
   ],
   "source": [
    "result2"
   ]
  },
  {
   "cell_type": "code",
   "execution_count": 28,
   "metadata": {
    "ExecuteTime": {
     "end_time": "2020-03-23T16:00:27.031491Z",
     "start_time": "2020-03-23T16:00:27.012639Z"
    }
   },
   "outputs": [
    {
     "name": "stdout",
     "output_type": "stream",
     "text": [
      "Average sentiment is 0.46.\n"
     ]
    }
   ],
   "source": [
    "print(f'Average sentiment is %.2f.' % (result2.sentiment_score.mean()))"
   ]
  },
  {
   "cell_type": "code",
   "execution_count": null,
   "metadata": {},
   "outputs": [],
   "source": []
  }
 ],
 "metadata": {
  "kernelspec": {
   "display_name": "finbert",
   "language": "python",
   "name": "python3"
  },
  "language_info": {
   "codemirror_mode": {
    "name": "ipython",
    "version": 3
   },
   "file_extension": ".py",
   "mimetype": "text/x-python",
   "name": "python",
   "nbconvert_exporter": "python",
   "pygments_lexer": "ipython3",
   "version": "3.7.16"
  },
  "pycharm": {
   "stem_cell": {
    "cell_type": "raw",
    "metadata": {
     "collapsed": false
    },
    "source": []
   }
  },
  "toc": {
   "base_numbering": 1,
   "nav_menu": {},
   "number_sections": true,
   "sideBar": true,
   "skip_h1_title": true,
   "title_cell": "Table of Contents",
   "title_sidebar": "Contents",
   "toc_cell": false,
   "toc_position": {},
   "toc_section_display": true,
   "toc_window_display": true
  }
 },
 "nbformat": 4,
 "nbformat_minor": 2
}
